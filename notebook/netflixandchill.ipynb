{
 "cells": [
  {
   "cell_type": "code",
   "execution_count": 2,
   "id": "5d3a0d4f-d325-42de-a7e3-3accbba18957",
   "metadata": {},
   "outputs": [
    {
     "ename": "ImportError",
     "evalue": "cannot import name 'omdb_api_key' from 'api_keys' (C:\\Users\\rache\\netflixandchill\\notebook\\api_keys.py)",
     "output_type": "error",
     "traceback": [
      "\u001b[1;31m---------------------------------------------------------------------------\u001b[0m",
      "\u001b[1;31mImportError\u001b[0m                               Traceback (most recent call last)",
      "Cell \u001b[1;32mIn[2], line 11\u001b[0m\n\u001b[0;32m      7\u001b[0m \u001b[38;5;28;01mfrom\u001b[39;00m \u001b[38;5;21;01mscipy\u001b[39;00m\u001b[38;5;21;01m.\u001b[39;00m\u001b[38;5;21;01mstats\u001b[39;00m \u001b[38;5;28;01mimport\u001b[39;00m linregress\n\u001b[0;32m     10\u001b[0m \u001b[38;5;66;03m# Import the OMDB API key\u001b[39;00m\n\u001b[1;32m---> 11\u001b[0m \u001b[38;5;28;01mfrom\u001b[39;00m \u001b[38;5;21;01mapi_keys\u001b[39;00m \u001b[38;5;28;01mimport\u001b[39;00m omdb_api_key\n",
      "\u001b[1;31mImportError\u001b[0m: cannot import name 'omdb_api_key' from 'api_keys' (C:\\Users\\rache\\netflixandchill\\notebook\\api_keys.py)"
     ]
    }
   ],
   "source": [
    "# Dependencies and Setup\n",
    "import matplotlib.pyplot as plt\n",
    "import pandas as pd\n",
    "import numpy as np\n",
    "import requests\n",
    "import time\n",
    "from scipy.stats import linregress\n",
    "\n",
    "\n",
    "# Import the OMDB API key\n",
    "from api_keys import omdb_api_key\n"
   ]
  },
  {
   "cell_type": "code",
   "execution_count": 7,
   "id": "4c6eebf0-05f6-4e2f-aecc-abb2ce804a85",
   "metadata": {},
   "outputs": [],
   "source": [
    "# Data files\n",
    "netflix_path = \"../data/netflix_titles.csv\"\n",
    "disney_path = \"../data/disney_plus_titles.csv\"\n",
    "prices_path = \"../data/subscription_prices.csv\"\n",
    "\n",
    "# Read the Netflix and Disney+ data\n",
    "netflix_data = pd.read_csv(netflix_path)\n",
    "disney_data = pd.read_csv(disney_path)\n",
    "prices_data = pd.read_csv(prices_path)"
   ]
  },
  {
   "cell_type": "code",
   "execution_count": 8,
   "id": "65ec2244-9780-4525-a40c-879606dd26c7",
   "metadata": {},
   "outputs": [
    {
     "data": {
      "text/plain": [
       "8807"
      ]
     },
     "execution_count": 8,
     "metadata": {},
     "output_type": "execute_result"
    }
   ],
   "source": [
    "# Create Netflix dataframe and review length\n",
    "netflix_df = pd.DataFrame(netflix_data)\n",
    "len(netflix_df)"
   ]
  },
  {
   "cell_type": "code",
   "execution_count": 9,
   "id": "304e048d-833f-4efb-94e2-d1eeca9afadd",
   "metadata": {},
   "outputs": [
    {
     "data": {
      "text/plain": [
       "10"
      ]
     },
     "execution_count": 9,
     "metadata": {},
     "output_type": "execute_result"
    }
   ],
   "source": [
    "# Netflix date_added is the key column for filtering to 2019 - 2021 to align with Disney+ dataset date_added dates\n",
    "# The following steps trim the \"September 24, 2018\" dates to remove extra spaces\n",
    "netflix_df['date_added'] = netflix_df['date_added'].str.strip()\n",
    "# netflix_df['date_added'] = pd.to_datetime(netflix_df['date_added'], errors='coerce')\n",
    "\n",
    "# There are a handful of blank date_added that will impact date filtering\n",
    "netflix_blank_dates = netflix_df[netflix_df['date_added'].isna()]\n",
    "len(netflix_blank_dates)"
   ]
  },
  {
   "cell_type": "code",
   "execution_count": 10,
   "id": "2a7a14de-654e-4728-926f-33754fce0557",
   "metadata": {},
   "outputs": [
    {
     "data": {
      "text/plain": [
       "0"
      ]
     },
     "execution_count": 10,
     "metadata": {},
     "output_type": "execute_result"
    }
   ],
   "source": [
    "# Drop rows with blank dates\n",
    "netflix_df = netflix_df.dropna(subset=['date_added'])\n",
    "\n",
    "# Verify the number of rows with blank dates after dropping\n",
    "len(netflix_df[netflix_df['date_added'].isna()])"
   ]
  },
  {
   "cell_type": "code",
   "execution_count": 11,
   "id": "80e576bc-1857-4e9a-91c6-3134a474a993",
   "metadata": {},
   "outputs": [],
   "source": [
    "# Extract only the date portion and convert it to string\n",
    "netflix_df['date_added'] = pd.to_datetime(netflix_df['date_added'], errors='coerce')\n",
    "netflix_df['date_added'] = netflix_df['date_added'].dt.date.astype(str)\n"
   ]
  },
  {
   "cell_type": "code",
   "execution_count": 12,
   "id": "5d51d48f-85ff-4b88-bc7b-4841bad0f1db",
   "metadata": {},
   "outputs": [
    {
     "data": {
      "text/plain": [
       "5393"
      ]
     },
     "execution_count": 12,
     "metadata": {},
     "output_type": "execute_result"
    }
   ],
   "source": [
    "# Filter out for dates greater than January 1, 2019\n",
    "netflix_df = netflix_df.loc[(netflix_df['date_added'] >= '2019-01-01') & (netflix_df['date_added'] <= '2021-12-31')]\n",
    "len(netflix_df)"
   ]
  },
  {
   "cell_type": "code",
   "execution_count": 13,
   "id": "c4f5ac4b-5ad4-4347-8af3-2a8ad3a78844",
   "metadata": {},
   "outputs": [
    {
     "data": {
      "text/plain": [
       "1450"
      ]
     },
     "execution_count": 13,
     "metadata": {},
     "output_type": "execute_result"
    }
   ],
   "source": [
    "# Create Disney+ dataframe and review length\n",
    "disney_df = pd.DataFrame(disney_data)\n",
    "len(disney_df)"
   ]
  },
  {
   "cell_type": "code",
   "execution_count": 14,
   "id": "bd66992b-2b25-42a5-ac1c-5e45813d8801",
   "metadata": {},
   "outputs": [
    {
     "data": {
      "text/plain": [
       "3"
      ]
     },
     "execution_count": 14,
     "metadata": {},
     "output_type": "execute_result"
    }
   ],
   "source": [
    "# There are a handful of blank date_added that will impact data\n",
    "disney_blank_dates = disney_df[disney_df['date_added'].isna()]\n",
    "len(disney_blank_dates)"
   ]
  },
  {
   "cell_type": "code",
   "execution_count": 15,
   "id": "00707854-6ed7-4565-9eca-a4d269603371",
   "metadata": {},
   "outputs": [
    {
     "data": {
      "text/plain": [
       "0"
      ]
     },
     "execution_count": 15,
     "metadata": {},
     "output_type": "execute_result"
    }
   ],
   "source": [
    "# Drop rows with blank dates\n",
    "disney_df = disney_df.dropna(subset=['date_added'])\n",
    "\n",
    "# Verify the number of rows with blank dates after dropping\n",
    "len(disney_df[disney_df['date_added'].isna()])"
   ]
  },
  {
   "cell_type": "code",
   "execution_count": 16,
   "id": "998924cd-c132-462c-8ffb-67c5f44c5067",
   "metadata": {},
   "outputs": [],
   "source": [
    "# Extract only the date portion and convert it to string\n",
    "disney_df['date_added'] = pd.to_datetime(disney_df['date_added'], errors='coerce')\n",
    "disney_df['date_added'] = disney_df['date_added'].dt.date.astype(str)"
   ]
  },
  {
   "cell_type": "code",
   "execution_count": 17,
   "id": "e1bffdd1-fafa-4e52-a8c4-197538c760fd",
   "metadata": {},
   "outputs": [],
   "source": [
    "# Sorted data frames by date_added\n",
    "sorted_netflix_df = netflix_df.sort_values(by = 'date_added', ascending=False)\n",
    "sorted_disney_df = disney_df.sort_values(by = 'date_added', ascending=False)"
   ]
  },
  {
   "cell_type": "code",
   "execution_count": 18,
   "id": "211f2344-0350-4e4d-8806-325e44289063",
   "metadata": {},
   "outputs": [],
   "source": [
    "# Most recent 500 titles per platform\n",
    "recentadd_netflix_df = sorted_netflix_df.head(500)\n",
    "recentadd_disney_df = sorted_disney_df.head(500)"
   ]
  },
  {
   "cell_type": "code",
   "execution_count": 19,
   "id": "e60ee9cd-4fa7-41ed-9bfe-ee5eda915b81",
   "metadata": {},
   "outputs": [
    {
     "data": {
      "text/plain": [
       "777"
      ]
     },
     "execution_count": 19,
     "metadata": {},
     "output_type": "execute_result"
    }
   ],
   "source": [
    "# Create Subscription Price dataframe and review length\n",
    "prices_df = pd.DataFrame(prices_data)\n",
    "len(prices_df)"
   ]
  },
  {
   "cell_type": "code",
   "execution_count": 20,
   "id": "11084ac8-17f2-4e6e-8b62-4a4a755937bb",
   "metadata": {},
   "outputs": [],
   "source": [
    "# Re-establishing filtered DataFrame as primary DataFrame for analysis\n",
    "netflix_df = recentadd_netflix_df\n",
    "disney_df = recentadd_disney_df"
   ]
  },
  {
   "cell_type": "code",
   "execution_count": 21,
   "id": "7c319f08-e34d-4719-8408-c6ebb8f209f9",
   "metadata": {},
   "outputs": [
    {
     "name": "stderr",
     "output_type": "stream",
     "text": [
      "C:\\Users\\rache\\AppData\\Local\\Temp\\ipykernel_99616\\1472989206.py:2: SettingWithCopyWarning: \n",
      "A value is trying to be set on a copy of a slice from a DataFrame.\n",
      "Try using .loc[row_indexer,col_indexer] = value instead\n",
      "\n",
      "See the caveats in the documentation: https://pandas.pydata.org/pandas-docs/stable/user_guide/indexing.html#returning-a-view-versus-a-copy\n",
      "  netflix_df.loc[:, \"platform\"] = \"Netflix\"\n",
      "C:\\Users\\rache\\AppData\\Local\\Temp\\ipykernel_99616\\1472989206.py:3: SettingWithCopyWarning: \n",
      "A value is trying to be set on a copy of a slice from a DataFrame.\n",
      "Try using .loc[row_indexer,col_indexer] = value instead\n",
      "\n",
      "See the caveats in the documentation: https://pandas.pydata.org/pandas-docs/stable/user_guide/indexing.html#returning-a-view-versus-a-copy\n",
      "  disney_df.loc[:, \"platform\"] = \"Disney+\"\n"
     ]
    }
   ],
   "source": [
    "# Add platform column to each streaming service to maintain association\n",
    "netflix_df.loc[:, \"platform\"] = \"Netflix\"\n",
    "disney_df.loc[:, \"platform\"] = \"Disney+\"\n"
   ]
  },
  {
   "cell_type": "code",
   "execution_count": 22,
   "id": "b89f500a-0de7-4b22-88c6-f3e73cc852be",
   "metadata": {},
   "outputs": [
    {
     "data": {
      "text/plain": [
       "1000"
      ]
     },
     "execution_count": 22,
     "metadata": {},
     "output_type": "execute_result"
    }
   ],
   "source": [
    "# Concatenate Netflix and Disney+ dataframes\n",
    "combined_df = pd.concat([netflix_df, disney_df], ignore_index=True)\n",
    "len(combined_df)"
   ]
  },
  {
   "cell_type": "code",
   "execution_count": 23,
   "id": "dbe6b15e-2ca0-4b3e-94b2-6f6d7dba735e",
   "metadata": {},
   "outputs": [
    {
     "data": {
      "text/plain": [
       "0"
      ]
     },
     "execution_count": 23,
     "metadata": {},
     "output_type": "execute_result"
    }
   ],
   "source": [
    "# Find duplicate titles to remove from analysis\n",
    "duplicate_titles = combined_df[combined_df.duplicated(subset=['title'])]\n",
    "len(duplicate_titles)"
   ]
  },
  {
   "cell_type": "code",
   "execution_count": 24,
   "id": "e650e028-c2d8-4da7-a136-ae33c029981f",
   "metadata": {},
   "outputs": [],
   "source": [
    "# Extract the primary genre from listed_in by pulling the first values within the list\n",
    "combined_df['listed_in'] = combined_df['listed_in'].str.split(',')\n",
    "combined_df['primary_genre'] = combined_df['listed_in'].str.get(0)\n",
    "\n",
    "# blank_genre = combined_df[combined_df['primary_genre'].isna()]\n",
    "# len(blank_genre)"
   ]
  },
  {
   "cell_type": "code",
   "execution_count": 25,
   "id": "ee54b0cd-711b-4494-ac00-6c8ade5054e4",
   "metadata": {},
   "outputs": [],
   "source": [
    "# Clean dataframe with columns of importance for data analysis\n",
    "combined_df = combined_df.loc[:, ['title', 'type','release_year', 'primary_genre', 'platform', 'date_added']]"
   ]
  },
  {
   "cell_type": "code",
   "execution_count": 26,
   "id": "420bcb13-d684-4464-93c8-df985b91f55d",
   "metadata": {},
   "outputs": [
    {
     "data": {
      "text/html": [
       "<div>\n",
       "<style scoped>\n",
       "    .dataframe tbody tr th:only-of-type {\n",
       "        vertical-align: middle;\n",
       "    }\n",
       "\n",
       "    .dataframe tbody tr th {\n",
       "        vertical-align: top;\n",
       "    }\n",
       "\n",
       "    .dataframe thead th {\n",
       "        text-align: right;\n",
       "    }\n",
       "</style>\n",
       "<table border=\"1\" class=\"dataframe\">\n",
       "  <thead>\n",
       "    <tr style=\"text-align: right;\">\n",
       "      <th></th>\n",
       "      <th>title</th>\n",
       "      <th>type</th>\n",
       "      <th>release_year</th>\n",
       "      <th>primary_genre</th>\n",
       "      <th>platform</th>\n",
       "      <th>date_added</th>\n",
       "      <th>year_added</th>\n",
       "    </tr>\n",
       "  </thead>\n",
       "  <tbody>\n",
       "    <tr>\n",
       "      <th>0</th>\n",
       "      <td>Dick Johnson Is Dead</td>\n",
       "      <td>Movie</td>\n",
       "      <td>2020</td>\n",
       "      <td>Documentaries</td>\n",
       "      <td>Netflix</td>\n",
       "      <td>2021-09-25</td>\n",
       "      <td>2021</td>\n",
       "    </tr>\n",
       "    <tr>\n",
       "      <th>1</th>\n",
       "      <td>My Little Pony: A New Generation</td>\n",
       "      <td>Movie</td>\n",
       "      <td>2021</td>\n",
       "      <td>Children &amp; Family Movies</td>\n",
       "      <td>Netflix</td>\n",
       "      <td>2021-09-24</td>\n",
       "      <td>2021</td>\n",
       "    </tr>\n",
       "    <tr>\n",
       "      <th>2</th>\n",
       "      <td>Vendetta: Truth, Lies and The Mafia</td>\n",
       "      <td>TV Show</td>\n",
       "      <td>2021</td>\n",
       "      <td>Crime TV Shows</td>\n",
       "      <td>Netflix</td>\n",
       "      <td>2021-09-24</td>\n",
       "      <td>2021</td>\n",
       "    </tr>\n",
       "    <tr>\n",
       "      <th>3</th>\n",
       "      <td>The Starling</td>\n",
       "      <td>Movie</td>\n",
       "      <td>2021</td>\n",
       "      <td>Comedies</td>\n",
       "      <td>Netflix</td>\n",
       "      <td>2021-09-24</td>\n",
       "      <td>2021</td>\n",
       "    </tr>\n",
       "    <tr>\n",
       "      <th>4</th>\n",
       "      <td>The Great British Baking Show</td>\n",
       "      <td>TV Show</td>\n",
       "      <td>2021</td>\n",
       "      <td>British TV Shows</td>\n",
       "      <td>Netflix</td>\n",
       "      <td>2021-09-24</td>\n",
       "      <td>2021</td>\n",
       "    </tr>\n",
       "  </tbody>\n",
       "</table>\n",
       "</div>"
      ],
      "text/plain": [
       "                                 title     type  release_year  \\\n",
       "0                 Dick Johnson Is Dead    Movie          2020   \n",
       "1     My Little Pony: A New Generation    Movie          2021   \n",
       "2  Vendetta: Truth, Lies and The Mafia  TV Show          2021   \n",
       "3                         The Starling    Movie          2021   \n",
       "4        The Great British Baking Show  TV Show          2021   \n",
       "\n",
       "              primary_genre platform date_added  year_added  \n",
       "0             Documentaries  Netflix 2021-09-25        2021  \n",
       "1  Children & Family Movies  Netflix 2021-09-24        2021  \n",
       "2            Crime TV Shows  Netflix 2021-09-24        2021  \n",
       "3                  Comedies  Netflix 2021-09-24        2021  \n",
       "4          British TV Shows  Netflix 2021-09-24        2021  "
      ]
     },
     "execution_count": 26,
     "metadata": {},
     "output_type": "execute_result"
    }
   ],
   "source": [
    "# Convert 'date_added' column to datetime\n",
    "combined_df['date_added'] = pd.to_datetime(combined_df['date_added'])\n",
    "# Extract year from 'date_added' and store it in a new column 'year_added'\n",
    "combined_df['year_added'] = combined_df['date_added'].dt.year\n",
    "\n",
    "combined_df.head()"
   ]
  },
  {
   "cell_type": "code",
   "execution_count": 27,
   "id": "84e8c877-3e60-4d44-b8fe-a387ca1b2391",
   "metadata": {},
   "outputs": [],
   "source": [
    "# Add empty columns for IMDb metadata to be pulled from API\n",
    "combined_df['imdb_id'] = ''\n",
    "combined_df['imdb_rating'] = ''\n",
    "combined_df['imdb_votes'] = ''\n",
    "combined_df['box_office_sales'] = ''\n",
    "combined_df['production_cost'] = ''"
   ]
  },
  {
   "cell_type": "code",
   "execution_count": 36,
   "id": "ddf24571-4c20-4819-a3c8-c2038f4c299c",
   "metadata": {},
   "outputs": [
    {
     "data": {
      "text/plain": [
       "42"
      ]
     },
     "execution_count": 36,
     "metadata": {},
     "output_type": "execute_result"
    }
   ],
   "source": [
    "# Enter in field value replacements for genre normalization (i.e. Documentaries and Docuseries to Documentary)\n",
    "len(combined_df['primary_genre'].unique())"
   ]
  },
  {
   "cell_type": "code",
   "execution_count": 41,
   "id": "d550777d-2d5f-4d7f-91f3-f1bfba04efef",
   "metadata": {},
   "outputs": [
    {
     "data": {
      "text/plain": [
       "array(['Documentary', 'Children & Family Movies', 'Crime TV Shows',\n",
       "       'Comedy', 'British TV Shows', 'Drama', 'International TV Shows',\n",
       "       'TV Dramas', 'TV Comedies', 'Thrillers', 'Horror Movies',\n",
       "       \"Kids' TV\", 'Action & Adventure', 'Reality TV', 'Anime Series',\n",
       "       'International Movies', 'Sci-Fi & Fantasy',\n",
       "       'Classic/Cult/Independent', 'TV Shows', 'Stand-Up Comedy',\n",
       "       'TV Action & Adventure', 'Behind the Scenes',\n",
       "       'Stand-Up Comedy & Talk Shows', 'Classic & Cult TV',\n",
       "       'Anime Features', 'Romantic TV Shows', 'Animated',\n",
       "       'Music/Musicals', 'Historical', 'Animals & Nature',\n",
       "       'Action/Adventure', 'Concert Film', 'Science Fiction',\n",
       "       'Coming of Age', 'Lifestyle', 'Reality', 'Family/Kids',\n",
       "       'Thriller/Crime', 'Talk Show', 'SciFi/Fantasy', 'Variety',\n",
       "       'Game Show / Competition'], dtype=object)"
      ]
     },
     "execution_count": 41,
     "metadata": {},
     "output_type": "execute_result"
    }
   ],
   "source": [
    "genres = combined_df['primary_genre'].unique()\n",
    "genres"
   ]
  },
  {
   "cell_type": "code",
   "execution_count": 38,
   "id": "4e2b55b6-8f52-48fb-8af4-dc262c65dce7",
   "metadata": {},
   "outputs": [
    {
     "data": {
      "text/html": [
       "<div>\n",
       "<style scoped>\n",
       "    .dataframe tbody tr th:only-of-type {\n",
       "        vertical-align: middle;\n",
       "    }\n",
       "\n",
       "    .dataframe tbody tr th {\n",
       "        vertical-align: top;\n",
       "    }\n",
       "\n",
       "    .dataframe thead th {\n",
       "        text-align: right;\n",
       "    }\n",
       "</style>\n",
       "<table border=\"1\" class=\"dataframe\">\n",
       "  <thead>\n",
       "    <tr style=\"text-align: right;\">\n",
       "      <th></th>\n",
       "      <th>title</th>\n",
       "      <th>type</th>\n",
       "      <th>release_year</th>\n",
       "      <th>primary_genre</th>\n",
       "      <th>platform</th>\n",
       "      <th>date_added</th>\n",
       "      <th>year_added</th>\n",
       "      <th>imdb_id</th>\n",
       "      <th>imdb_rating</th>\n",
       "      <th>imdb_votes</th>\n",
       "      <th>box_office_sales</th>\n",
       "      <th>production_cost</th>\n",
       "    </tr>\n",
       "  </thead>\n",
       "  <tbody>\n",
       "    <tr>\n",
       "      <th>0</th>\n",
       "      <td>Dick Johnson Is Dead</td>\n",
       "      <td>Movie</td>\n",
       "      <td>2020</td>\n",
       "      <td>Documentary</td>\n",
       "      <td>Netflix</td>\n",
       "      <td>2021-09-25</td>\n",
       "      <td>2021</td>\n",
       "      <td></td>\n",
       "      <td></td>\n",
       "      <td></td>\n",
       "      <td></td>\n",
       "      <td></td>\n",
       "    </tr>\n",
       "    <tr>\n",
       "      <th>1</th>\n",
       "      <td>My Little Pony: A New Generation</td>\n",
       "      <td>Movie</td>\n",
       "      <td>2021</td>\n",
       "      <td>Children &amp; Family Movies</td>\n",
       "      <td>Netflix</td>\n",
       "      <td>2021-09-24</td>\n",
       "      <td>2021</td>\n",
       "      <td></td>\n",
       "      <td></td>\n",
       "      <td></td>\n",
       "      <td></td>\n",
       "      <td></td>\n",
       "    </tr>\n",
       "    <tr>\n",
       "      <th>2</th>\n",
       "      <td>Vendetta: Truth, Lies and The Mafia</td>\n",
       "      <td>TV Show</td>\n",
       "      <td>2021</td>\n",
       "      <td>Crime TV Shows</td>\n",
       "      <td>Netflix</td>\n",
       "      <td>2021-09-24</td>\n",
       "      <td>2021</td>\n",
       "      <td></td>\n",
       "      <td></td>\n",
       "      <td></td>\n",
       "      <td></td>\n",
       "      <td></td>\n",
       "    </tr>\n",
       "    <tr>\n",
       "      <th>3</th>\n",
       "      <td>The Starling</td>\n",
       "      <td>Movie</td>\n",
       "      <td>2021</td>\n",
       "      <td>Comedy</td>\n",
       "      <td>Netflix</td>\n",
       "      <td>2021-09-24</td>\n",
       "      <td>2021</td>\n",
       "      <td></td>\n",
       "      <td></td>\n",
       "      <td></td>\n",
       "      <td></td>\n",
       "      <td></td>\n",
       "    </tr>\n",
       "    <tr>\n",
       "      <th>4</th>\n",
       "      <td>The Great British Baking Show</td>\n",
       "      <td>TV Show</td>\n",
       "      <td>2021</td>\n",
       "      <td>British TV Shows</td>\n",
       "      <td>Netflix</td>\n",
       "      <td>2021-09-24</td>\n",
       "      <td>2021</td>\n",
       "      <td></td>\n",
       "      <td></td>\n",
       "      <td></td>\n",
       "      <td></td>\n",
       "      <td></td>\n",
       "    </tr>\n",
       "    <tr>\n",
       "      <th>...</th>\n",
       "      <td>...</td>\n",
       "      <td>...</td>\n",
       "      <td>...</td>\n",
       "      <td>...</td>\n",
       "      <td>...</td>\n",
       "      <td>...</td>\n",
       "      <td>...</td>\n",
       "      <td>...</td>\n",
       "      <td>...</td>\n",
       "      <td>...</td>\n",
       "      <td>...</td>\n",
       "      <td>...</td>\n",
       "    </tr>\n",
       "    <tr>\n",
       "      <th>995</th>\n",
       "      <td>Disney A.N.T. Farm</td>\n",
       "      <td>TV Show</td>\n",
       "      <td>2011</td>\n",
       "      <td>Comedy</td>\n",
       "      <td>Disney+</td>\n",
       "      <td>2020-06-26</td>\n",
       "      <td>2020</td>\n",
       "      <td></td>\n",
       "      <td></td>\n",
       "      <td></td>\n",
       "      <td></td>\n",
       "      <td></td>\n",
       "    </tr>\n",
       "    <tr>\n",
       "      <th>996</th>\n",
       "      <td>Marvel Studios' Avengers: Infinity War</td>\n",
       "      <td>Movie</td>\n",
       "      <td>2018</td>\n",
       "      <td>Action/Adventure</td>\n",
       "      <td>Disney+</td>\n",
       "      <td>2020-06-26</td>\n",
       "      <td>2020</td>\n",
       "      <td></td>\n",
       "      <td></td>\n",
       "      <td></td>\n",
       "      <td></td>\n",
       "      <td></td>\n",
       "    </tr>\n",
       "    <tr>\n",
       "      <th>997</th>\n",
       "      <td>Tarzan II</td>\n",
       "      <td>Movie</td>\n",
       "      <td>2005</td>\n",
       "      <td>Action/Adventure</td>\n",
       "      <td>Disney+</td>\n",
       "      <td>2020-06-26</td>\n",
       "      <td>2020</td>\n",
       "      <td></td>\n",
       "      <td></td>\n",
       "      <td></td>\n",
       "      <td></td>\n",
       "      <td></td>\n",
       "    </tr>\n",
       "    <tr>\n",
       "      <th>998</th>\n",
       "      <td>Tarzan</td>\n",
       "      <td>Movie</td>\n",
       "      <td>1999</td>\n",
       "      <td>Action/Adventure</td>\n",
       "      <td>Disney+</td>\n",
       "      <td>2020-06-26</td>\n",
       "      <td>2020</td>\n",
       "      <td></td>\n",
       "      <td></td>\n",
       "      <td></td>\n",
       "      <td></td>\n",
       "      <td></td>\n",
       "    </tr>\n",
       "    <tr>\n",
       "      <th>999</th>\n",
       "      <td>Man in Space</td>\n",
       "      <td>Movie</td>\n",
       "      <td>1955</td>\n",
       "      <td>Documentary</td>\n",
       "      <td>Disney+</td>\n",
       "      <td>2020-06-26</td>\n",
       "      <td>2020</td>\n",
       "      <td></td>\n",
       "      <td></td>\n",
       "      <td></td>\n",
       "      <td></td>\n",
       "      <td></td>\n",
       "    </tr>\n",
       "  </tbody>\n",
       "</table>\n",
       "<p>1000 rows × 12 columns</p>\n",
       "</div>"
      ],
      "text/plain": [
       "                                      title     type  release_year  \\\n",
       "0                      Dick Johnson Is Dead    Movie          2020   \n",
       "1          My Little Pony: A New Generation    Movie          2021   \n",
       "2       Vendetta: Truth, Lies and The Mafia  TV Show          2021   \n",
       "3                              The Starling    Movie          2021   \n",
       "4             The Great British Baking Show  TV Show          2021   \n",
       "..                                      ...      ...           ...   \n",
       "995                      Disney A.N.T. Farm  TV Show          2011   \n",
       "996  Marvel Studios' Avengers: Infinity War    Movie          2018   \n",
       "997                               Tarzan II    Movie          2005   \n",
       "998                                  Tarzan    Movie          1999   \n",
       "999                            Man in Space    Movie          1955   \n",
       "\n",
       "                primary_genre platform date_added  year_added imdb_id  \\\n",
       "0                 Documentary  Netflix 2021-09-25        2021           \n",
       "1    Children & Family Movies  Netflix 2021-09-24        2021           \n",
       "2              Crime TV Shows  Netflix 2021-09-24        2021           \n",
       "3                      Comedy  Netflix 2021-09-24        2021           \n",
       "4            British TV Shows  Netflix 2021-09-24        2021           \n",
       "..                        ...      ...        ...         ...     ...   \n",
       "995                    Comedy  Disney+ 2020-06-26        2020           \n",
       "996          Action/Adventure  Disney+ 2020-06-26        2020           \n",
       "997          Action/Adventure  Disney+ 2020-06-26        2020           \n",
       "998          Action/Adventure  Disney+ 2020-06-26        2020           \n",
       "999               Documentary  Disney+ 2020-06-26        2020           \n",
       "\n",
       "    imdb_rating imdb_votes box_office_sales production_cost  \n",
       "0                                                            \n",
       "1                                                            \n",
       "2                                                            \n",
       "3                                                            \n",
       "4                                                            \n",
       "..          ...        ...              ...             ...  \n",
       "995                                                          \n",
       "996                                                          \n",
       "997                                                          \n",
       "998                                                          \n",
       "999                                                          \n",
       "\n",
       "[1000 rows x 12 columns]"
      ]
     },
     "execution_count": 38,
     "metadata": {},
     "output_type": "execute_result"
    }
   ],
   "source": [
    "# normalization\n",
    "data_iteration_1 = combined_df.replace(to_replace='Animation', value = 'Animated')\n",
    "data_iteration_2 = data_iteration_1.replace(to_replace=['Docuseries', 'Documentaries'], value = 'Documentary')\n",
    "data_iteration_3 = data_iteration_2.replace(to_replace=['Biographical', 'Historical'], value = 'Historical')\n",
    "data_iteration_4 = data_iteration_3.replace(to_replace=['Thriller', 'Crime'], value = 'Thriller/Crime')\n",
    "data_iteration_5 = data_iteration_4.replace(to_replace=['Stand-UpComedy&Talk', 'Comedies'], value = 'Comedy')\n",
    "data_iteration_6 = data_iteration_5.replace(to_replace=['Stand-UpComedy', 'Buddy'], value = 'Comedy')\n",
    "data_iteration_7 = data_iteration_6.replace(to_replace=['Classic Movies', 'Classic&Cult'], value = 'Classic/Cult/Independent')\n",
    "data_iteration_8 = data_iteration_7.replace(to_replace='IndependentMovies', value = 'Classic/Cult/Independent')\n",
    "data_iteration_9 = data_iteration_8.replace(to_replace=['Horror', 'HorrorMovies'], value = 'Horror')\n",
    "data_iteration_10 = data_iteration_9.replace(to_replace=['Music&Musicals', 'ConcertFilm'], value = 'Music/Musicals')\n",
    "data_iteration_11 = data_iteration_10.replace(to_replace=['Music', 'Musical'], value = 'Music/Musicals')\n",
    "data_iteration_12 = data_iteration_11.replace(to_replace='Dance', value = 'Music/Musicals')\n",
    "data_iteration_13 = data_iteration_12.replace(to_replace=['Family', 'Kids'], value = 'Family/Kids')\n",
    "data_iteration_14 = data_iteration_13.replace(to_replace=[\"Kids'\", 'Children&FamilyMovies'], value = 'Family/Kids')\n",
    "data_iteration_15 = data_iteration_14.replace(to_replace=['ScienceFiction', 'Fantasy'], value = 'SciFi/Fantasy')\n",
    "data_iteration_16 = data_iteration_15.replace(to_replace='Sci-Fi&Fantasy', value = 'SciFi/Fantasy')\n",
    "data_iteration_17 = data_iteration_16.replace(to_replace=['Action-Adventure', 'Action&Adventure'], value = 'Action/Adventure')\n",
    "data_iteration_18 = data_iteration_17.replace(to_replace=['International', 'InternationalMovies'], value = 'International')\n",
    "data_iteration_19 = data_iteration_18.replace(to_replace='Dramas', value = 'Drama')\n",
    "data_iteration_20 = data_iteration_19.replace(to_replace='Gameshow/Competition', value = 'Reality')\n",
    "data_iteration_21 = data_iteration_20.replace(to_replace=['Movies', 'Series'], value = 'Behind the Scenes')\n",
    "combined_df = data_iteration_21.replace(to_replace='Anthology', value = 'Behind the Scenes')\n",
    "combined_df"
   ]
  },
  {
   "cell_type": "code",
   "execution_count": null,
   "id": "efb314de-dc68-475e-bfa0-833759e26032",
   "metadata": {},
   "outputs": [],
   "source": [
    "# TEST\n",
    "# Response 200 testing\n",
    "# url = \"http://www.omdbapi.com/?t=\"\n",
    "# api_key = \"&apikey=\" + omdb_api_key\n",
    "# response = requests.get(url + \"Aliens\" + api_key, verify=False)\n",
    "# print(response)"
   ]
  },
  {
   "cell_type": "code",
   "execution_count": null,
   "id": "52a294b7-8a90-4307-9067-7bed60a8df80",
   "metadata": {},
   "outputs": [],
   "source": [
    "# TEST\n",
    "# Printing API URLs out\n",
    "\n",
    "# Establishing base URL for OMDB API\n",
    "# url = \"http://www.omdbapi.com/\"\n",
    "\n",
    "# Construct the API request URL with the title and API key\n",
    "# params = {\n",
    "#        'apikey': omdb_api_key,\n",
    "#    }\n",
    "\n",
    "# Loop through each title in the 'title' column of combined_df\n",
    "# for index, row in combined_df.iterrows():\n",
    "#    time.sleep(2) # Add a delay to avoid hitting the API too quickly\n",
    "    \n",
    "#    title = row['title']\n",
    "#    params['t'] = title # get title from combined_df\n",
    "    \n",
    "# Construct the API URL\n",
    "#    api_url = url + \"?\" + \"&\".join([f\"{key}={value}\" for key, value in params.items()])\n",
    "\n",
    "# Print the API URL for the current title\n",
    "#    print(\"API URL for\", title, \":\", api_url)\n"
   ]
  },
  {
   "cell_type": "code",
   "execution_count": null,
   "id": "8b6a0c9b-0cda-4a1d-a2a6-ad65af5d1611",
   "metadata": {},
   "outputs": [],
   "source": [
    "# this is being worked on - could not get api response to work (garrett) \n",
    "\n",
    "# Establishing base URL for OMDB API\n",
    "url = \"http://www.omdbapi.com/\"\n",
    "\n",
    "# Construct the API request URL with the title and API key\n",
    "params = {\n",
    "        'apikey': omdb_api_key,\n",
    "    }\n",
    "\n",
    "# Loop through each title in the 'title' column of combined_df\n",
    "for index, row in combined_df.iterrows():\n",
    "    time.sleep(2) # Add a delay to avoid hitting the API too quickly\n",
    "    \n",
    "    title = row['title'] # get title from current row\n",
    "    params['t'] = title # establish \"t\" parameter for current title\n",
    " \n",
    "   # Run an API request for each of the titles\n",
    "    try:\n",
    "        # Parse the JSON and retrieve data\n",
    "        omdb_response = requests.get(url, params=params, verify=False)\n",
    "        omdb_data = omdb_response.json()\n",
    "    \n",
    "    # Parse out OMDB ratings, votes, etc.\n",
    "        id = omdb_data.get('imdbID')\n",
    "        rating = omdb_data.get('imdbRating')\n",
    "        votes = omdb_data.get('imdbVotes')\n",
    "        box_office_sales = omdb_data.get('BoxOffice')\n",
    "        prod_cost = omdb_data.get('Production')\n",
    "        \n",
    "    # Assign OMDB information into combined_df\n",
    "        combined_df.at[index, \"imdb_id\"] = id\n",
    "        combined_df.at[index, \"imdb_rating\"] = rating\n",
    "        combined_df.at[index, \"imdb_votes\"] = votes \n",
    "        combined_df.at[index, \"box_office_sales\"] = box_office_sales \n",
    "        combined_df.at[index, \"production_cost\"] = prod_cost\n",
    "\n",
    "                             \n",
    "        print(f\"Data retrieved for '{title}': imdbRating = {rating}, imdbVotes = {votes}\")\n",
    "    except Exception as e:\n",
    "        print(f\"Failed to fetch data for '{title}': {e}\")"
   ]
  },
  {
   "cell_type": "code",
   "execution_count": null,
   "id": "b47a8d82-6b8a-4230-9019-18e38dc466c6",
   "metadata": {},
   "outputs": [],
   "source": []
  }
 ],
 "metadata": {
  "kernelspec": {
   "display_name": "Python 3 (ipykernel)",
   "language": "python",
   "name": "python3"
  },
  "language_info": {
   "codemirror_mode": {
    "name": "ipython",
    "version": 3
   },
   "file_extension": ".py",
   "mimetype": "text/x-python",
   "name": "python",
   "nbconvert_exporter": "python",
   "pygments_lexer": "ipython3",
   "version": "3.11.7"
  }
 },
 "nbformat": 4,
 "nbformat_minor": 5
}
