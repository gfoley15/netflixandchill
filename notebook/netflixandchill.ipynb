{
 "cells": [
  {
   "cell_type": "code",
   "execution_count": 1,
   "id": "5d3a0d4f-d325-42de-a7e3-3accbba18957",
   "metadata": {},
   "outputs": [],
   "source": [
    "# Dependencies and Setup\n",
    "import matplotlib.pyplot as plt\n",
    "import pandas as pd\n",
    "import numpy as np\n",
    "import requests\n",
    "import time\n",
    "import os\n",
    "import seaborn as sns\n",
    "import warnings\n",
    "from scipy.stats import linregress"
   ]
  },
  {
   "cell_type": "code",
   "execution_count": 2,
   "id": "681b7598-92c6-49b9-876a-fa67c6965e2d",
   "metadata": {},
   "outputs": [],
   "source": [
    "warnings.filterwarnings('ignore')"
   ]
  },
  {
   "cell_type": "markdown",
   "id": "925190b9-5028-49e7-b544-93b8afc91c23",
   "metadata": {},
   "source": [
    "# Read in titles data files and create combined DataFrame"
   ]
  },
  {
   "cell_type": "code",
   "execution_count": 3,
   "id": "4c6eebf0-05f6-4e2f-aecc-abb2ce804a85",
   "metadata": {},
   "outputs": [],
   "source": [
    "# Data files\n",
    "netflix_path = \"../data/netflix_titles.csv\"\n",
    "disney_path = \"../data/disney_plus_titles.csv\"\n",
    "\n",
    "# Read the Netflix and Disney+ data\n",
    "netflix_data = pd.read_csv(netflix_path)\n",
    "disney_data = pd.read_csv(disney_path)\n"
   ]
  },
  {
   "cell_type": "code",
   "execution_count": 4,
   "id": "65ec2244-9780-4525-a40c-879606dd26c7",
   "metadata": {},
   "outputs": [
    {
     "data": {
      "text/plain": [
       "8807"
      ]
     },
     "execution_count": 4,
     "metadata": {},
     "output_type": "execute_result"
    }
   ],
   "source": [
    "# Create Netflix dataframe and review length\n",
    "netflix_df = pd.DataFrame(netflix_data)\n",
    "len(netflix_df)"
   ]
  },
  {
   "cell_type": "code",
   "execution_count": 5,
   "id": "304e048d-833f-4efb-94e2-d1eeca9afadd",
   "metadata": {},
   "outputs": [
    {
     "data": {
      "text/plain": [
       "10"
      ]
     },
     "execution_count": 5,
     "metadata": {},
     "output_type": "execute_result"
    }
   ],
   "source": [
    "# Netflix date_added is the key column for filtering to 2019 - 2021 to align with Disney+ dataset date_added dates\n",
    "# The following steps trim the \"September 24, 2018\" dates to remove extra spaces\n",
    "netflix_df['date_added'] = netflix_df['date_added'].str.strip()\n",
    "# netflix_df['date_added'] = pd.to_datetime(netflix_df['date_added'], errors='coerce')\n",
    "\n",
    "# There are a handful of blank date_added that will impact date filtering\n",
    "netflix_blank_dates = netflix_df[netflix_df['date_added'].isna()]\n",
    "len(netflix_blank_dates)"
   ]
  },
  {
   "cell_type": "code",
   "execution_count": 6,
   "id": "2a7a14de-654e-4728-926f-33754fce0557",
   "metadata": {},
   "outputs": [
    {
     "data": {
      "text/plain": [
       "0"
      ]
     },
     "execution_count": 6,
     "metadata": {},
     "output_type": "execute_result"
    }
   ],
   "source": [
    "# Drop rows with blank dates\n",
    "netflix_df = netflix_df.dropna(subset=['date_added'])\n",
    "\n",
    "# Verify the number of rows with blank dates after dropping\n",
    "len(netflix_df[netflix_df['date_added'].isna()])"
   ]
  },
  {
   "cell_type": "code",
   "execution_count": 7,
   "id": "80e576bc-1857-4e9a-91c6-3134a474a993",
   "metadata": {},
   "outputs": [],
   "source": [
    "# Extract only the date portion and convert it to string\n",
    "netflix_df['date_added'] = pd.to_datetime(netflix_df['date_added'], errors='coerce')\n",
    "netflix_df['date_added'] = netflix_df['date_added'].dt.date.astype(str)\n"
   ]
  },
  {
   "cell_type": "code",
   "execution_count": 8,
   "id": "5d51d48f-85ff-4b88-bc7b-4841bad0f1db",
   "metadata": {},
   "outputs": [
    {
     "data": {
      "text/plain": [
       "5393"
      ]
     },
     "execution_count": 8,
     "metadata": {},
     "output_type": "execute_result"
    }
   ],
   "source": [
    "# Filter out for dates greater than January 1, 2019\n",
    "netflix_df = netflix_df.loc[(netflix_df['date_added'] >= '2019-01-01') & (netflix_df['date_added'] <= '2021-12-31')]\n",
    "len(netflix_df)"
   ]
  },
  {
   "cell_type": "code",
   "execution_count": 9,
   "id": "c4f5ac4b-5ad4-4347-8af3-2a8ad3a78844",
   "metadata": {},
   "outputs": [
    {
     "data": {
      "text/plain": [
       "1450"
      ]
     },
     "execution_count": 9,
     "metadata": {},
     "output_type": "execute_result"
    }
   ],
   "source": [
    "# Create Disney+ dataframe and review length\n",
    "disney_df = pd.DataFrame(disney_data)\n",
    "len(disney_df)"
   ]
  },
  {
   "cell_type": "code",
   "execution_count": 10,
   "id": "bd66992b-2b25-42a5-ac1c-5e45813d8801",
   "metadata": {},
   "outputs": [
    {
     "data": {
      "text/plain": [
       "3"
      ]
     },
     "execution_count": 10,
     "metadata": {},
     "output_type": "execute_result"
    }
   ],
   "source": [
    "# There are a handful of blank date_added that will impact data\n",
    "disney_blank_dates = disney_df[disney_df['date_added'].isna()]\n",
    "len(disney_blank_dates)"
   ]
  },
  {
   "cell_type": "code",
   "execution_count": 11,
   "id": "00707854-6ed7-4565-9eca-a4d269603371",
   "metadata": {},
   "outputs": [
    {
     "data": {
      "text/plain": [
       "0"
      ]
     },
     "execution_count": 11,
     "metadata": {},
     "output_type": "execute_result"
    }
   ],
   "source": [
    "# Drop rows with blank dates\n",
    "disney_df = disney_df.dropna(subset=['date_added'])\n",
    "\n",
    "# Verify the number of rows with blank dates after dropping\n",
    "len(disney_df[disney_df['date_added'].isna()])"
   ]
  },
  {
   "cell_type": "code",
   "execution_count": 12,
   "id": "998924cd-c132-462c-8ffb-67c5f44c5067",
   "metadata": {},
   "outputs": [],
   "source": [
    "# Extract only the date portion and convert it to string\n",
    "disney_df['date_added'] = pd.to_datetime(disney_df['date_added'], errors='coerce')\n",
    "disney_df['date_added'] = disney_df['date_added'].dt.date.astype(str)"
   ]
  },
  {
   "cell_type": "code",
   "execution_count": 13,
   "id": "e1bffdd1-fafa-4e52-a8c4-197538c760fd",
   "metadata": {},
   "outputs": [],
   "source": [
    "# Add platform column to each streaming service to maintain association\n",
    "netflix_df.loc[:, \"platform\"] = \"Netflix\"\n",
    "disney_df.loc[:, \"platform\"] = \"Disney+\"\n"
   ]
  },
  {
   "cell_type": "code",
   "execution_count": 14,
   "id": "211f2344-0350-4e4d-8806-325e44289063",
   "metadata": {},
   "outputs": [
    {
     "data": {
      "text/plain": [
       "6840"
      ]
     },
     "execution_count": 14,
     "metadata": {},
     "output_type": "execute_result"
    }
   ],
   "source": [
    "# Concatenate Netflix and Disney+ dataframes\n",
    "combined_df = pd.concat([netflix_df, disney_df], ignore_index=True)\n",
    "len(combined_df)"
   ]
  },
  {
   "cell_type": "code",
   "execution_count": 15,
   "id": "e60ee9cd-4fa7-41ed-9bfe-ee5eda915b81",
   "metadata": {},
   "outputs": [
    {
     "data": {
      "text/plain": [
       "22"
      ]
     },
     "execution_count": 15,
     "metadata": {},
     "output_type": "execute_result"
    }
   ],
   "source": [
    "# Find duplicate titles to remove from analysis\n",
    "duplicate_titles = combined_df[combined_df.duplicated(subset=['title'])]\n",
    "len(duplicate_titles)"
   ]
  },
  {
   "cell_type": "code",
   "execution_count": 16,
   "id": "11084ac8-17f2-4e6e-8b62-4a4a755937bb",
   "metadata": {},
   "outputs": [],
   "source": [
    "# Extract the primary genre from listed_in by pulling the first values within the list\n",
    "combined_df['listed_in'] = combined_df['listed_in'].str.split(',')\n",
    "combined_df['primary_genre'] = combined_df['listed_in'].str.get(0)\n",
    "\n",
    "# blank_genre = combined_df[combined_df['primary_genre'].isna()]\n",
    "# len(blank_genre)"
   ]
  },
  {
   "cell_type": "code",
   "execution_count": 17,
   "id": "7c319f08-e34d-4719-8408-c6ebb8f209f9",
   "metadata": {},
   "outputs": [],
   "source": [
    "# Clean dataframe with columns of importance for data analysis\n",
    "combined_df = combined_df.loc[:, ['title', 'type','release_year', 'primary_genre', 'platform', 'date_added']]"
   ]
  },
  {
   "cell_type": "code",
   "execution_count": 18,
   "id": "4e2b55b6-8f52-48fb-8af4-dc262c65dce7",
   "metadata": {},
   "outputs": [],
   "source": [
    "# Enter in field value replacements for genre normalization (i.e. Documentaries and Docuseries to Documentary)\n",
    "data_iteration_1 = combined_df.replace(to_replace='Animation', value = 'Animated')\n",
    "data_iteration_2 = data_iteration_1.replace(to_replace=['Docuseries', 'Documentaries'], value = 'Documentary')\n",
    "data_iteration_3 = data_iteration_2.replace(to_replace=['Biographical', 'Historical'], value = 'Historical')\n",
    "data_iteration_4 = data_iteration_3.replace(to_replace=['Thriller', 'Crime'], value = 'Thriller/Crime')\n",
    "data_iteration_5 = data_iteration_4.replace(to_replace=['Stand-UpComedy&Talk', 'Comedies'], value = 'Comedy')\n",
    "data_iteration_6 = data_iteration_5.replace(to_replace=['Stand-UpComedy', 'Buddy'], value = 'Comedy')\n",
    "data_iteration_7 = data_iteration_6.replace(to_replace=['Classic Movies', 'Classic&Cult'], value = 'Classic/Cult/Independent')\n",
    "data_iteration_8 = data_iteration_7.replace(to_replace='IndependentMovies', value = 'Classic/Cult/Independent')\n",
    "data_iteration_9 = data_iteration_8.replace(to_replace=['Horror', 'HorrorMovies'], value = 'Horror')\n",
    "data_iteration_10 = data_iteration_9.replace(to_replace=['Music&Musicals', 'ConcertFilm'], value = 'Music/Musicals')\n",
    "data_iteration_11 = data_iteration_10.replace(to_replace=['Music', 'Musical'], value = 'Music/Musicals')\n",
    "data_iteration_12 = data_iteration_11.replace(to_replace='Dance', value = 'Music/Musicals')\n",
    "data_iteration_13 = data_iteration_12.replace(to_replace=['Family', 'Kids'], value = 'Family/Kids')\n",
    "data_iteration_14 = data_iteration_13.replace(to_replace=[\"Kids'\", 'Children&FamilyMovies'], value = 'Family/Kids')\n",
    "data_iteration_15 = data_iteration_14.replace(to_replace=['ScienceFiction', 'Fantasy'], value = 'SciFi/Fantasy')\n",
    "data_iteration_16 = data_iteration_15.replace(to_replace='Sci-Fi&Fantasy', value = 'SciFi/Fantasy')\n",
    "data_iteration_17 = data_iteration_16.replace(to_replace=['Action-Adventure', 'Action&Adventure'], value = 'Action/Adventure')\n",
    "data_iteration_18 = data_iteration_17.replace(to_replace=['International', 'InternationalMovies'], value = 'International')\n",
    "data_iteration_19 = data_iteration_18.replace(to_replace='Dramas', value = 'Drama')\n",
    "data_iteration_20 = data_iteration_19.replace(to_replace='Gameshow/Competition', value = 'Reality')\n",
    "data_iteration_21 = data_iteration_20.replace(to_replace=['Movies', 'Series'], value = 'Behind the Scenes')\n",
    "combined_df = data_iteration_21.replace(to_replace='Anthology', value = 'Behind the Scenes')\n"
   ]
  },
  {
   "cell_type": "code",
   "execution_count": 19,
   "id": "d550777d-2d5f-4d7f-91f3-f1bfba04efef",
   "metadata": {},
   "outputs": [
    {
     "data": {
      "text/plain": [
       "50"
      ]
     },
     "execution_count": 19,
     "metadata": {},
     "output_type": "execute_result"
    }
   ],
   "source": [
    "#Display unique count of genres\n",
    "genres = combined_df['primary_genre'].unique()\n",
    "len(genres)"
   ]
  },
  {
   "cell_type": "code",
   "execution_count": 20,
   "id": "dbe6b15e-2ca0-4b3e-94b2-6f6d7dba735e",
   "metadata": {},
   "outputs": [
    {
     "data": {
      "text/html": [
       "<div>\n",
       "<style scoped>\n",
       "    .dataframe tbody tr th:only-of-type {\n",
       "        vertical-align: middle;\n",
       "    }\n",
       "\n",
       "    .dataframe tbody tr th {\n",
       "        vertical-align: top;\n",
       "    }\n",
       "\n",
       "    .dataframe thead th {\n",
       "        text-align: right;\n",
       "    }\n",
       "</style>\n",
       "<table border=\"1\" class=\"dataframe\">\n",
       "  <thead>\n",
       "    <tr style=\"text-align: right;\">\n",
       "      <th></th>\n",
       "      <th>title</th>\n",
       "      <th>type</th>\n",
       "      <th>release_year</th>\n",
       "      <th>primary_genre</th>\n",
       "      <th>platform</th>\n",
       "      <th>date_added</th>\n",
       "      <th>year_added</th>\n",
       "    </tr>\n",
       "  </thead>\n",
       "  <tbody>\n",
       "    <tr>\n",
       "      <th>0</th>\n",
       "      <td>Dick Johnson Is Dead</td>\n",
       "      <td>Movie</td>\n",
       "      <td>2020</td>\n",
       "      <td>Documentary</td>\n",
       "      <td>Netflix</td>\n",
       "      <td>2021-09-25</td>\n",
       "      <td>2021</td>\n",
       "    </tr>\n",
       "    <tr>\n",
       "      <th>1</th>\n",
       "      <td>Blood &amp; Water</td>\n",
       "      <td>TV Show</td>\n",
       "      <td>2021</td>\n",
       "      <td>International TV Shows</td>\n",
       "      <td>Netflix</td>\n",
       "      <td>2021-09-24</td>\n",
       "      <td>2021</td>\n",
       "    </tr>\n",
       "    <tr>\n",
       "      <th>2</th>\n",
       "      <td>Ganglands</td>\n",
       "      <td>TV Show</td>\n",
       "      <td>2021</td>\n",
       "      <td>Crime TV Shows</td>\n",
       "      <td>Netflix</td>\n",
       "      <td>2021-09-24</td>\n",
       "      <td>2021</td>\n",
       "    </tr>\n",
       "    <tr>\n",
       "      <th>3</th>\n",
       "      <td>Jailbirds New Orleans</td>\n",
       "      <td>TV Show</td>\n",
       "      <td>2021</td>\n",
       "      <td>Documentary</td>\n",
       "      <td>Netflix</td>\n",
       "      <td>2021-09-24</td>\n",
       "      <td>2021</td>\n",
       "    </tr>\n",
       "    <tr>\n",
       "      <th>4</th>\n",
       "      <td>Kota Factory</td>\n",
       "      <td>TV Show</td>\n",
       "      <td>2021</td>\n",
       "      <td>International TV Shows</td>\n",
       "      <td>Netflix</td>\n",
       "      <td>2021-09-24</td>\n",
       "      <td>2021</td>\n",
       "    </tr>\n",
       "  </tbody>\n",
       "</table>\n",
       "</div>"
      ],
      "text/plain": [
       "                   title     type  release_year           primary_genre  \\\n",
       "0   Dick Johnson Is Dead    Movie          2020             Documentary   \n",
       "1          Blood & Water  TV Show          2021  International TV Shows   \n",
       "2              Ganglands  TV Show          2021          Crime TV Shows   \n",
       "3  Jailbirds New Orleans  TV Show          2021             Documentary   \n",
       "4           Kota Factory  TV Show          2021  International TV Shows   \n",
       "\n",
       "  platform date_added  year_added  \n",
       "0  Netflix 2021-09-25        2021  \n",
       "1  Netflix 2021-09-24        2021  \n",
       "2  Netflix 2021-09-24        2021  \n",
       "3  Netflix 2021-09-24        2021  \n",
       "4  Netflix 2021-09-24        2021  "
      ]
     },
     "execution_count": 20,
     "metadata": {},
     "output_type": "execute_result"
    }
   ],
   "source": [
    "# Convert 'date_added' column to datetime\n",
    "combined_df['date_added'] = pd.to_datetime(combined_df['date_added'])\n",
    "# Extract year from 'date_added' and store it in a new column 'year_added'\n",
    "combined_df['year_added'] = combined_df['date_added'].dt.year\n",
    "\n",
    "combined_df.head()"
   ]
  },
  {
   "cell_type": "markdown",
   "id": "4675afd9-b009-4182-ad2b-8dffebc99065",
   "metadata": {},
   "source": [
    "# Genre and Type composition plotting"
   ]
  },
  {
   "cell_type": "code",
   "execution_count": 21,
   "id": "e650e028-c2d8-4da7-a136-ae33c029981f",
   "metadata": {},
   "outputs": [],
   "source": [
    "# Netflix pie chart for movie/tv shows"
   ]
  },
  {
   "cell_type": "code",
   "execution_count": 22,
   "id": "ee54b0cd-711b-4494-ac00-6c8ade5054e4",
   "metadata": {},
   "outputs": [],
   "source": [
    "# Disney pie chart for movie/tv shows"
   ]
  },
  {
   "cell_type": "code",
   "execution_count": null,
   "id": "420bcb13-d684-4464-93c8-df985b91f55d",
   "metadata": {},
   "outputs": [],
   "source": [
    "# Netflix bar chart for primary genre counts"
   ]
  },
  {
   "cell_type": "code",
   "execution_count": null,
   "id": "84e8c877-3e60-4d44-b8fe-a387ca1b2391",
   "metadata": {},
   "outputs": [],
   "source": [
    "# Disney bar chart for primary genre counts"
   ]
  },
  {
   "cell_type": "markdown",
   "id": "e0ca81f4-af36-44ec-b92c-0249d84ce396",
   "metadata": {},
   "source": [
    "# Release year plotting"
   ]
  },
  {
   "cell_type": "code",
   "execution_count": 70,
   "id": "ddf24571-4c20-4819-a3c8-c2038f4c299c",
   "metadata": {},
   "outputs": [
    {
     "data": {
      "image/png": "[encoded data removed]",
      "text/plain": [
       "<Figure size 1400x500 with 1 Axes>"
      ]
     },
     "metadata": {},
     "output_type": "display_data"
    }
   ],
   "source": [
    "# Netflix bar or line chart for release years\n",
    "net_relyr_groups = netflix_df.groupby('release_year')\n",
    "net_relyr = net_relyr_groups['show_id'].count()\n",
    "net_relyr_plot = net_relyr.plot(kind='bar', figsize=(14,5), color = 'red', title = 'Netflix Movies/TV Shows by Release Year', \n",
    "                                xlabel= 'Release Year', ylabel='Number of Movies/TV Shows')\n",
    "plt.show()"
   ]
  },
  {
   "cell_type": "code",
   "execution_count": 69,
   "id": "4b45039b-c8a3-436d-8272-455af95e9b17",
   "metadata": {},
   "outputs": [
    {
     "data": {
      "image/png": "[encoded data removed]",
      "text/plain": [
       "<Figure size 1400x500 with 1 Axes>"
      ]
     },
     "metadata": {},
     "output_type": "display_data"
    }
   ],
   "source": [
    "# Disney bar or line chart for release years\n",
    "dis_relyr_groups = disney_df.groupby('release_year')\n",
    "dis_relyr = dis_relyr_groups['show_id'].count()\n",
    "dis_relyr_plot = dis_relyr.plot(kind='bar', figsize=(14,5), title = 'Disney+ Movies/TV Shows by Release Year', \n",
    "                                xlabel= 'Release Year', ylabel='Number of Movies/TV Shows')\n",
    "plt.show()"
   ]
  },
  {
   "cell_type": "code",
   "execution_count": null,
   "id": "d6e682f0-446c-4323-a5f7-d30837fc28e7",
   "metadata": {},
   "outputs": [],
   "source": []
  },
  {
   "cell_type": "markdown",
   "id": "2b03660e-987e-4a84-87a1-54336810507c",
   "metadata": {},
   "source": [
    "# Read in price data file and create DataFrame"
   ]
  },
  {
   "cell_type": "code",
   "execution_count": 23,
   "id": "b3eb4115",
   "metadata": {},
   "outputs": [
    {
     "data": {
      "text/plain": [
       "777"
      ]
     },
     "execution_count": 23,
     "metadata": {},
     "output_type": "execute_result"
    }
   ],
   "source": [
    "# Create Subscription Price dataframe and review length\n",
    "prices_path = \"../data/subscription_prices.csv\"\n",
    "prices_data = pd.read_csv(prices_path)\n",
    "prices_df = pd.DataFrame(prices_data)\n",
    "len(prices_df)"
   ]
  },
  {
   "cell_type": "markdown",
   "id": "5974ab05-bb0d-4825-b3f9-82b4ae9834b9",
   "metadata": {},
   "source": [
    "# Subscription Price plotting"
   ]
  },
  {
   "cell_type": "code",
   "execution_count": null,
   "id": "3fe13775-198e-440b-998f-4837a47812b8",
   "metadata": {},
   "outputs": [],
   "source": [
    "# Line chart for subscription prices"
   ]
  },
  {
   "cell_type": "markdown",
   "id": "43904aac-563e-4e43-beb9-f88b733a29d9",
   "metadata": {},
   "source": [
    "# Create DataFrame for most recently added titles"
   ]
  },
  {
   "cell_type": "code",
   "execution_count": null,
   "id": "b10b1bd1",
   "metadata": {},
   "outputs": [],
   "source": [
    "# Sorted data frames by date_added\n",
    "sorted_netflix_df = netflix_df.sort_values(by = 'date_added', ascending=False)\n",
    "sorted_disney_df = disney_df.sort_values(by = 'date_added', ascending=False)"
   ]
  },
  {
   "cell_type": "code",
   "execution_count": null,
   "id": "60fce31d",
   "metadata": {},
   "outputs": [],
   "source": [
    "# Most recently added 500 titles per platform\n",
    "recentadd_netflix_df = sorted_netflix_df.head(600)\n",
    "recentadd_disney_df = sorted_disney_df.head(600)"
   ]
  },
  {
   "cell_type": "code",
   "execution_count": null,
   "id": "95101d22",
   "metadata": {},
   "outputs": [],
   "source": [
    "# Concatenate recentadd Netflix and Disney+ dataframes\n",
    "recentadd_df = pd.concat([recentadd_netflix_df, recentadd_disney_df], ignore_index=True)\n",
    "len(recentadd_df)"
   ]
  },
  {
   "cell_type": "code",
   "execution_count": null,
   "id": "5dc22954-eddf-461c-bc86-1906df16bb5e",
   "metadata": {},
   "outputs": [],
   "source": [
    "# Extract the primary genre from listed_in by pulling the first values within the list\n",
    "recentadd_df['listed_in'] = recentadd_df['listed_in'].str.split(',')\n",
    "recentadd_df['primary_genre'] = recentadd_df['listed_in'].str.get(0)"
   ]
  },
  {
   "cell_type": "code",
   "execution_count": null,
   "id": "74d8b887-d7ff-4531-8077-a107b7b4ca0d",
   "metadata": {},
   "outputs": [],
   "source": [
    "# Clean dataframe with columns of importance for data analysis\n",
    "recentadd_df = recentadd_df.loc[:, ['title', 'type','release_year', 'primary_genre', 'platform', 'date_added']]"
   ]
  },
  {
   "cell_type": "code",
   "execution_count": null,
   "id": "455ce272",
   "metadata": {},
   "outputs": [],
   "source": [
    "# Add empty columns for IMDb metadata to be pulled from API\n",
    "recentadd_df['imdb_id'] = ''\n",
    "recentadd_df['imdb_rating'] = ''\n",
    "recentadd_df['imdb_votes'] = ''\n",
    "recentadd_df['box_office_sales'] = ''\n",
    "recentadd_df['production_cost'] = ''"
   ]
  },
  {
   "cell_type": "markdown",
   "id": "5a856529-f8ab-449d-ac7a-9990055c3ae7",
   "metadata": {},
   "source": [
    "# Call OMDB API to pull metadata into DataFrame / Save output"
   ]
  },
  {
   "cell_type": "code",
   "execution_count": null,
   "id": "7972e978-4777-418c-962d-5cbd6e604a97",
   "metadata": {},
   "outputs": [],
   "source": [
    "# Import the OMDB API key\n",
    "from api_keys import omdb_api_key"
   ]
  },
  {
   "cell_type": "code",
   "execution_count": null,
   "id": "efb314de-dc68-475e-bfa0-833759e26032",
   "metadata": {},
   "outputs": [],
   "source": [
    "# TEST\n",
    "# Response 200 testing\n",
    "# url = \"http://www.omdbapi.com/?t=\"\n",
    "# api_key = \"&apikey=\" + omdb_api_key\n",
    "# response = requests.get(url + \"Aliens\" + api_key, verify=False)\n",
    "# print(response)"
   ]
  },
  {
   "cell_type": "code",
   "execution_count": null,
   "id": "52a294b7-8a90-4307-9067-7bed60a8df80",
   "metadata": {},
   "outputs": [],
   "source": [
    "# TEST\n",
    "# Printing API URLs out\n",
    "\n",
    "# Establishing base URL for OMDB API\n",
    "# url = \"http://www.omdbapi.com/\"\n",
    "\n",
    "# Construct the API request URL with the title and API key\n",
    "# params = {\n",
    "#        'apikey': omdb_api_key,\n",
    "#    }\n",
    "\n",
    "# Loop through each title in the 'title' column of combined_df\n",
    "# for index, row in combined_df.iterrows():\n",
    "#    time.sleep(2) # Add a delay to avoid hitting the API too quickly\n",
    "    \n",
    "#    title = row['title']\n",
    "#    params['t'] = title # get title from combined_df\n",
    "    \n",
    "# Construct the API URL\n",
    "#    api_url = url + \"?\" + \"&\".join([f\"{key}={value}\" for key, value in params.items()])\n",
    "\n",
    "# Print the API URL for the current title\n",
    "#    print(\"API URL for\", title, \":\", api_url)\n"
   ]
  },
  {
   "cell_type": "code",
   "execution_count": null,
   "id": "8b6a0c9b-0cda-4a1d-a2a6-ad65af5d1611",
   "metadata": {},
   "outputs": [],
   "source": [
    "# Establishing base URL for OMDB API\n",
    "url = \"http://www.omdbapi.com/\"\n",
    "\n",
    "# Construct the API request URL with the title and API key\n",
    "params = {\n",
    "        'apikey': omdb_api_key,\n",
    "    }\n",
    "\n",
    "# Loop through each title in the 'title' column of combined_df\n",
    "for index, row in recentadd_df.iterrows():\n",
    "    time.sleep(1) # Add a delay to avoid hitting the API too quickly\n",
    "    \n",
    "    title = row['title'] # get title from current row\n",
    "    params['t'] = title # establish \"t\" parameter for current title\n",
    " \n",
    "   # Run an API request for each of the titles\n",
    "    try:\n",
    "        # Parse the JSON and retrieve data\n",
    "        omdb_response = requests.get(url, params=params, verify=False)\n",
    "        omdb_data = omdb_response.json()\n",
    "    \n",
    "    # Parse out OMDB ratings, votes, etc.\n",
    "        id = omdb_data.get('imdbID')\n",
    "        rating = omdb_data.get('imdbRating')\n",
    "        votes = omdb_data.get('imdbVotes')\n",
    "        box_office_sales = omdb_data.get('BoxOffice')\n",
    "        prod_cost = omdb_data.get('Production')\n",
    "        \n",
    "    # Assign OMDB information into combined_df\n",
    "        recentadd_df.at[index, \"imdb_id\"] = id\n",
    "        recentadd_df.at[index, \"imdb_rating\"] = rating\n",
    "        recentadd_df.at[index, \"imdb_votes\"] = votes \n",
    "        recentadd_df.at[index, \"box_office_sales\"] = box_office_sales \n",
    "        recentadd_df.at[index, \"production_cost\"] = prod_cost\n",
    "\n",
    "                             \n",
    "        print(f\"Data retrieved for '{title}': imdbRating = {rating}, imdbVotes = {votes}\")\n",
    "    except Exception as e:\n",
    "        print(f\"Failed to fetch data for '{title}': {e}\")"
   ]
  },
  {
   "cell_type": "code",
   "execution_count": null,
   "id": "b47a8d82-6b8a-4230-9019-18e38dc466c6",
   "metadata": {},
   "outputs": [],
   "source": [
    "# Show record count\n",
    "recentadd_df.count()"
   ]
  },
  {
   "cell_type": "code",
   "execution_count": null,
   "id": "b0e06aba-09c1-4d7d-95bd-3c3b78b28dad",
   "metadata": {},
   "outputs": [],
   "source": [
    "# Display new DataFrame with new OMDB metadata\n",
    "recentadd_df.head()"
   ]
  },
  {
   "cell_type": "code",
   "execution_count": null,
   "id": "1438bb0f-b098-492c-a769-4c54a6230eca",
   "metadata": {},
   "outputs": [],
   "source": [
    "# Export the recentadd_rated_df into a csv\n",
    "recentadd_df.to_csv(\"../output/recentadd_rated2.csv\", index_label=\"index\")"
   ]
  },
  {
   "cell_type": "markdown",
   "id": "564bab7f-06a3-40d4-9d3e-9c3ed3b7e710",
   "metadata": {},
   "source": [
    "# Read in ratings data file and create DataFrame"
   ]
  },
  {
   "cell_type": "code",
   "execution_count": null,
   "id": "f4e3f90f-404e-4762-85a5-df0b60b721c3",
   "metadata": {},
   "outputs": [],
   "source": [
    "# New ratings file\n",
    "new_data_path = \"../output/recentadd_rated2.csv\""
   ]
  },
  {
   "cell_type": "code",
   "execution_count": null,
   "id": "99ed359a-2bbe-45de-8c80-07af7b2a993e",
   "metadata": {},
   "outputs": [],
   "source": [
    "# Read the new Netflix and Disney+ data\n",
    "new_combined_data = pd.read_csv(new_data_path)\n",
    "new_combined_df= pd.DataFrame(new_combined_data)\n",
    "new_combined_df"
   ]
  },
  {
   "cell_type": "code",
   "execution_count": null,
   "id": "1790792c-947a-4fab-827e-7e640c152686",
   "metadata": {},
   "outputs": [],
   "source": [
    "# Find \"None\" and \"N/A\" values for each platform"
   ]
  },
  {
   "cell_type": "code",
   "execution_count": null,
   "id": "3da25a5c-cc8f-4038-8e1d-a7976b75286f",
   "metadata": {},
   "outputs": [],
   "source": [
    "# Remove \"None\" and \"N/A\" values to create clean dataframe"
   ]
  },
  {
   "cell_type": "code",
   "execution_count": null,
   "id": "dad97525-115b-4d4e-921c-da50cb5b877a",
   "metadata": {},
   "outputs": [],
   "source": [
    "# out of 1000 rows 998 blank  for production_cost\n",
    "blank_production_cost = new_combined_df[new_combined_df['production_cost'].isna()]\n",
    "len(blank_production_cost)"
   ]
  },
  {
   "cell_type": "code",
   "execution_count": null,
   "id": "e279b735-e71f-4bd3-b9d5-cb537af0deda",
   "metadata": {},
   "outputs": [],
   "source": []
  },
  {
   "cell_type": "markdown",
   "id": "db83cd59-3de5-40af-b506-3f05cac9c342",
   "metadata": {},
   "source": [
    "# Generate Summary Statistics for each platform"
   ]
  },
  {
   "cell_type": "code",
   "execution_count": null,
   "id": "7ce28a6d-3169-400e-b1f1-f110c3912658",
   "metadata": {},
   "outputs": [],
   "source": [
    "# Generate a summary statistics table of mean, median, variance, standard deviation, and SEM for each platform\n",
    "# Use groupby and summary statistical methods to calculate the following properties of each platform: "
   ]
  },
  {
   "cell_type": "code",
   "execution_count": null,
   "id": "fb1fb28c-685b-4884-b0e4-b27be2ccd051",
   "metadata": {},
   "outputs": [],
   "source": [
    "# Generate a box plot that shows the distrubution of IMDB rating for each platform.\n",
    "plt.figure(figsize=(10, 6))\n",
    "sns.boxplot(data=new_combined_df, x='platform', y='imdb_rating')\n",
    "plt.title('Box Plot of IMDb Ratings by Platform')\n",
    "plt.xlabel('Platform')\n",
    "plt.ylabel('IMDB Rating')\n",
    "plt.xticks(rotation=45)\n",
    "# Save the plot to the output folder\n",
    "plt.savefig(os.path.join('../output', 'BoxPlot_of_IMDbRatings_Platform.png'))\n",
    "plt.show()"
   ]
  },
  {
   "cell_type": "code",
   "execution_count": null,
   "id": "400ddf7f-ae75-454e-9eeb-a096164014ca",
   "metadata": {},
   "outputs": [],
   "source": [
    "# # change production_cost dtype to float\n",
    "# combined_df['production_cost'] = combined_df['production_cost'].astype(float)"
   ]
  },
  {
   "cell_type": "code",
   "execution_count": null,
   "id": "0c4a639d-14ee-4a2a-bca9-1fe815234e63",
   "metadata": {},
   "outputs": [],
   "source": [
    "# # Group by 'platform' and calculate the average production cost for each platform\n",
    "# average_production_cost_per_platform = new_combined_df.groupby('platform')['production_cost'].mean()\n",
    "\n",
    "# # Plot the bar chart\n",
    "# average_production_cost_per_platform.plot(kind='bar', figsize=(10, 6), color='skyblue')\n",
    "\n",
    "# # Set the title and labels\n",
    "# plt.title('Average Production Cost per Platform')\n",
    "# plt.xlabel('Platform')\n",
    "# plt.ylabel('Average Production Cost')\n",
    "\n",
    "# # Show the plot\n",
    "# plt.xticks(rotation=45)  # Rotate x-axis labels for better readability\n",
    "# plt.tight_layout()  # Adjust layout to prevent clipping of labels\n",
    "# plt.savefig(os.path.join('../output', 'Average_Production_Cost_per_Platform.png'))\n",
    "# plt.show()"
   ]
  }
 ],
 "metadata": {
  "kernelspec": {
   "display_name": "Python 3 (ipykernel)",
   "language": "python",
   "name": "python3"
  },
  "language_info": {
   "codemirror_mode": {
    "name": "ipython",
    "version": 3
   },
   "file_extension": ".py",
   "mimetype": "text/x-python",
   "name": "python",
   "nbconvert_exporter": "python",
   "pygments_lexer": "ipython3",
   "version": "3.10.14"
  }
 },
 "nbformat": 4,
 "nbformat_minor": 5
}
