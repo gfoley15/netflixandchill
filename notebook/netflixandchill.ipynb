{
 "cells": [
  {
   "cell_type": "code",
   "execution_count": 12,
   "id": "5d3a0d4f-d325-42de-a7e3-3accbba18957",
   "metadata": {},
   "outputs": [],
   "source": [
    "# Dependencies and Setup\n",
    "import matplotlib.pyplot as plt\n",
    "import pandas as pd\n",
    "import numpy as np\n",
    "import requests\n",
    "import time\n",
    "import os\n",
    "import seaborn as sns\n",
    "import scipy.stats as st\n",
    "import warnings\n",
    "from scipy.stats import linregress\n",
    "sns.set()"
   ]
  },
  {
   "cell_type": "code",
   "execution_count": 2,
   "id": "681b7598-92c6-49b9-876a-fa67c6965e2d",
   "metadata": {},
   "outputs": [],
   "source": [
    "warnings.filterwarnings('ignore')"
   ]
  },
  {
   "cell_type": "markdown",
   "id": "925190b9-5028-49e7-b544-93b8afc91c23",
   "metadata": {},
   "source": [
    "# Read in titles data files and create combined DataFrame"
   ]
  },
  {
   "cell_type": "code",
   "execution_count": null,
   "id": "4c6eebf0-05f6-4e2f-aecc-abb2ce804a85",
   "metadata": {},
   "outputs": [],
   "source": [
    "# Data files\n",
    "netflix_path = \"../data/netflix_titles.csv\"\n",
    "disney_path = \"../data/disney_plus_titles.csv\"\n",
    "\n",
    "# Read the Netflix and Disney+ data\n",
    "netflix_data = pd.read_csv(netflix_path)\n",
    "disney_data = pd.read_csv(disney_path)\n"
   ]
  },
  {
   "cell_type": "code",
   "execution_count": null,
   "id": "65ec2244-9780-4525-a40c-879606dd26c7",
   "metadata": {},
   "outputs": [],
   "source": [
    "# Create Netflix dataframe and review length\n",
    "netflix_df = pd.DataFrame(netflix_data)\n",
    "len(netflix_df)"
   ]
  },
  {
   "cell_type": "code",
   "execution_count": null,
   "id": "304e048d-833f-4efb-94e2-d1eeca9afadd",
   "metadata": {},
   "outputs": [],
   "source": [
    "# Netflix date_added is the key column for filtering to 2019 - 2021 to align with Disney+ dataset date_added dates\n",
    "# The following steps trim the \"September 24, 2018\" dates to remove extra spaces\n",
    "netflix_df['date_added'] = netflix_df['date_added'].str.strip()\n",
    "# netflix_df['date_added'] = pd.to_datetime(netflix_df['date_added'], errors='coerce')\n",
    "\n",
    "# There are a handful of blank date_added that will impact date filtering\n",
    "netflix_blank_dates = netflix_df[netflix_df['date_added'].isna()]\n",
    "len(netflix_blank_dates)"
   ]
  },
  {
   "cell_type": "code",
   "execution_count": null,
   "id": "2a7a14de-654e-4728-926f-33754fce0557",
   "metadata": {},
   "outputs": [],
   "source": [
    "# Drop rows with blank dates\n",
    "netflix_df = netflix_df.dropna(subset=['date_added'])\n",
    "\n",
    "# Verify the number of rows with blank dates after dropping\n",
    "len(netflix_df[netflix_df['date_added'].isna()])"
   ]
  },
  {
   "cell_type": "code",
   "execution_count": null,
   "id": "80e576bc-1857-4e9a-91c6-3134a474a993",
   "metadata": {},
   "outputs": [],
   "source": [
    "# Extract only the date portion and convert it to string\n",
    "netflix_df['date_added'] = pd.to_datetime(netflix_df['date_added'], errors='coerce')\n",
    "netflix_df['date_added'] = netflix_df['date_added'].dt.date.astype(str)\n"
   ]
  },
  {
   "cell_type": "code",
   "execution_count": null,
   "id": "5d51d48f-85ff-4b88-bc7b-4841bad0f1db",
   "metadata": {},
   "outputs": [],
   "source": [
    "# Filter out for dates greater than January 1, 2019\n",
    "netflix_df = netflix_df.loc[(netflix_df['date_added'] >= '2019-01-01') & (netflix_df['date_added'] <= '2021-12-31')]\n",
    "len(netflix_df)"
   ]
  },
  {
   "cell_type": "code",
   "execution_count": null,
   "id": "c4f5ac4b-5ad4-4347-8af3-2a8ad3a78844",
   "metadata": {},
   "outputs": [],
   "source": [
    "# Create Disney+ dataframe and review length\n",
    "disney_df = pd.DataFrame(disney_data)\n",
    "len(disney_df)"
   ]
  },
  {
   "cell_type": "code",
   "execution_count": null,
   "id": "bd66992b-2b25-42a5-ac1c-5e45813d8801",
   "metadata": {},
   "outputs": [],
   "source": [
    "# There are a handful of blank date_added that will impact data\n",
    "disney_blank_dates = disney_df[disney_df['date_added'].isna()]\n",
    "len(disney_blank_dates)"
   ]
  },
  {
   "cell_type": "code",
   "execution_count": null,
   "id": "00707854-6ed7-4565-9eca-a4d269603371",
   "metadata": {},
   "outputs": [],
   "source": [
    "# Drop rows with blank dates\n",
    "disney_df = disney_df.dropna(subset=['date_added'])\n",
    "\n",
    "# Verify the number of rows with blank dates after dropping\n",
    "len(disney_df[disney_df['date_added'].isna()])"
   ]
  },
  {
   "cell_type": "code",
   "execution_count": null,
   "id": "998924cd-c132-462c-8ffb-67c5f44c5067",
   "metadata": {},
   "outputs": [],
   "source": [
    "# Extract only the date portion and convert it to string\n",
    "disney_df['date_added'] = pd.to_datetime(disney_df['date_added'], errors='coerce')\n",
    "disney_df['date_added'] = disney_df['date_added'].dt.date.astype(str)"
   ]
  },
  {
   "cell_type": "code",
   "execution_count": null,
   "id": "e1bffdd1-fafa-4e52-a8c4-197538c760fd",
   "metadata": {},
   "outputs": [],
   "source": [
    "# Add platform column to each streaming service to maintain association\n",
    "netflix_df.loc[:, \"platform\"] = \"Netflix\"\n",
    "disney_df.loc[:, \"platform\"] = \"Disney+\"\n"
   ]
  },
  {
   "cell_type": "code",
   "execution_count": null,
   "id": "211f2344-0350-4e4d-8806-325e44289063",
   "metadata": {},
   "outputs": [],
   "source": [
    "# Concatenate Netflix and Disney+ dataframes\n",
    "combined_df = pd.concat([netflix_df, disney_df], ignore_index=True)\n",
    "len(combined_df)"
   ]
  },
  {
   "cell_type": "code",
   "execution_count": null,
   "id": "e60ee9cd-4fa7-41ed-9bfe-ee5eda915b81",
   "metadata": {},
   "outputs": [],
   "source": [
    "# Find duplicate titles to remove from analysis\n",
    "duplicate_titles = combined_df[combined_df.duplicated(subset=['title'])]\n",
    "len(duplicate_titles)"
   ]
  },
  {
   "cell_type": "code",
   "execution_count": null,
   "id": "11084ac8-17f2-4e6e-8b62-4a4a755937bb",
   "metadata": {},
   "outputs": [],
   "source": [
    "# Extract the primary genre from listed_in by pulling the first values within the list\n",
    "combined_df['listed_in'] = combined_df['listed_in'].str.split(',')\n",
    "combined_df['primary_genre'] = combined_df['listed_in'].str.get(0)\n",
    "\n",
    "# blank_genre = combined_df[combined_df['primary_genre'].isna()]\n",
    "# len(blank_genre)"
   ]
  },
  {
   "cell_type": "code",
   "execution_count": null,
   "id": "7c319f08-e34d-4719-8408-c6ebb8f209f9",
   "metadata": {},
   "outputs": [],
   "source": [
    "# Clean dataframe with columns of importance for data analysis\n",
    "combined_df = combined_df.loc[:, ['title', 'type','release_year', 'primary_genre', 'platform', 'date_added']]"
   ]
  },
  {
   "cell_type": "code",
   "execution_count": null,
   "id": "4e2b55b6-8f52-48fb-8af4-dc262c65dce7",
   "metadata": {},
   "outputs": [],
   "source": [
    "# Enter in field value replacements for genre normalization (i.e. Documentaries and Docuseries to Documentary)\n",
    "data_iteration_1 = combined_df.replace(to_replace='Animation', value = 'Animated')\n",
    "data_iteration_2 = data_iteration_1.replace(to_replace=['Docuseries', 'Documentaries'], value = 'Documentary')\n",
    "data_iteration_3 = data_iteration_2.replace(to_replace=['Biographical', 'Historical'], value = 'Historical')\n",
    "data_iteration_4 = data_iteration_3.replace(to_replace=['Thriller', 'Crime'], value = 'Thriller/Crime')\n",
    "data_iteration_5 = data_iteration_4.replace(to_replace=['Stand-UpComedy&Talk', 'Comedies'], value = 'Comedy')\n",
    "data_iteration_6 = data_iteration_5.replace(to_replace=['Stand-UpComedy', 'Buddy'], value = 'Comedy')\n",
    "data_iteration_7 = data_iteration_6.replace(to_replace=['Classic Movies', 'Classic&Cult'], value = 'Classic/Cult/Independent')\n",
    "data_iteration_8 = data_iteration_7.replace(to_replace='IndependentMovies', value = 'Classic/Cult/Independent')\n",
    "data_iteration_9 = data_iteration_8.replace(to_replace=['Horror', 'HorrorMovies'], value = 'Horror')\n",
    "data_iteration_10 = data_iteration_9.replace(to_replace=['Music&Musicals', 'ConcertFilm'], value = 'Music/Musicals')\n",
    "data_iteration_11 = data_iteration_10.replace(to_replace=['Music', 'Musical'], value = 'Music/Musicals')\n",
    "data_iteration_12 = data_iteration_11.replace(to_replace='Dance', value = 'Music/Musicals')\n",
    "data_iteration_13 = data_iteration_12.replace(to_replace=['Family', 'Kids'], value = 'Family/Kids')\n",
    "data_iteration_14 = data_iteration_13.replace(to_replace=[\"Kids'\", 'Children&FamilyMovies'], value = 'Family/Kids')\n",
    "data_iteration_15 = data_iteration_14.replace(to_replace=['ScienceFiction', 'Fantasy'], value = 'SciFi/Fantasy')\n",
    "data_iteration_16 = data_iteration_15.replace(to_replace='Sci-Fi&Fantasy', value = 'SciFi/Fantasy')\n",
    "data_iteration_17 = data_iteration_16.replace(to_replace=['Action-Adventure', 'Action&Adventure'], value = 'Action/Adventure')\n",
    "data_iteration_18 = data_iteration_17.replace(to_replace=['International', 'InternationalMovies'], value = 'International')\n",
    "data_iteration_19 = data_iteration_18.replace(to_replace='Dramas', value = 'Drama')\n",
    "data_iteration_20 = data_iteration_19.replace(to_replace='Gameshow/Competition', value = 'Reality')\n",
    "data_iteration_21 = data_iteration_20.replace(to_replace=['Movies', 'Series'], value = 'Behind the Scenes')\n",
    "combined_df = data_iteration_21.replace(to_replace='Anthology', value = 'Behind the Scenes')\n"
   ]
  },
  {
   "cell_type": "code",
   "execution_count": null,
   "id": "d550777d-2d5f-4d7f-91f3-f1bfba04efef",
   "metadata": {},
   "outputs": [],
   "source": [
    "#Display unique count of genres\n",
    "genres = combined_df['primary_genre'].unique()\n",
    "len(genres)"
   ]
  },
  {
   "cell_type": "code",
   "execution_count": null,
   "id": "dbe6b15e-2ca0-4b3e-94b2-6f6d7dba735e",
   "metadata": {},
   "outputs": [],
   "source": [
    "# Convert 'date_added' column to datetime\n",
    "combined_df['date_added'] = pd.to_datetime(combined_df['date_added'])\n",
    "# Extract year from 'date_added' and store it in a new column 'year_added'\n",
    "combined_df['year_added'] = combined_df['date_added'].dt.year\n",
    "\n",
    "combined_df.head()"
   ]
  },
  {
   "cell_type": "markdown",
   "id": "4675afd9-b009-4182-ad2b-8dffebc99065",
   "metadata": {},
   "source": [
    "# Genre and Type composition plotting"
   ]
  },
  {
   "cell_type": "code",
   "execution_count": null,
   "id": "e650e028-c2d8-4da7-a136-ae33c029981f",
   "metadata": {},
   "outputs": [],
   "source": [
    "# Netflix pie chart for movie/tv shows"
   ]
  },
  {
   "cell_type": "code",
   "execution_count": null,
   "id": "ee54b0cd-711b-4494-ac00-6c8ade5054e4",
   "metadata": {},
   "outputs": [],
   "source": [
    "# Disney pie chart for movie/tv shows"
   ]
  },
  {
   "cell_type": "code",
   "execution_count": null,
   "id": "420bcb13-d684-4464-93c8-df985b91f55d",
   "metadata": {},
   "outputs": [],
   "source": [
    "# Netflix bar chart for primary genre counts"
   ]
  },
  {
   "cell_type": "code",
   "execution_count": null,
   "id": "84e8c877-3e60-4d44-b8fe-a387ca1b2391",
   "metadata": {},
   "outputs": [],
   "source": [
    "# Disney bar chart for primary genre counts"
   ]
  },
  {
   "cell_type": "markdown",
   "id": "e0ca81f4-af36-44ec-b92c-0249d84ce396",
   "metadata": {},
   "source": [
    "# Release year plotting"
   ]
  },
  {
   "cell_type": "code",
   "execution_count": null,
   "id": "ddf24571-4c20-4819-a3c8-c2038f4c299c",
   "metadata": {},
   "outputs": [],
   "source": [
    "# Netflix bar or line chart for release years"
   ]
  },
  {
   "cell_type": "code",
   "execution_count": null,
   "id": "4b45039b-c8a3-436d-8272-455af95e9b17",
   "metadata": {},
   "outputs": [],
   "source": [
    "# Disney bar or line chart for release years"
   ]
  },
  {
   "cell_type": "markdown",
   "id": "2b03660e-987e-4a84-87a1-54336810507c",
   "metadata": {},
   "source": [
    "# Read in price data file and create DataFrame"
   ]
  },
  {
   "cell_type": "code",
   "execution_count": null,
   "id": "b3eb4115",
   "metadata": {},
   "outputs": [],
   "source": [
    "# Create Subscription Price dataframe and review length\n",
    "prices_path = \"../data/subscription_prices.csv\"\n",
    "prices_data = pd.read_csv(prices_path)\n",
    "prices_df = pd.DataFrame(prices_data)\n",
    "len(prices_df)"
   ]
  },
  {
   "cell_type": "markdown",
   "id": "5974ab05-bb0d-4825-b3f9-82b4ae9834b9",
   "metadata": {},
   "source": [
    "# Subscription Price plotting"
   ]
  },
  {
   "cell_type": "code",
   "execution_count": null,
   "id": "3fe13775-198e-440b-998f-4837a47812b8",
   "metadata": {},
   "outputs": [],
   "source": [
    "# Line chart for subscription prices"
   ]
  },
  {
   "cell_type": "markdown",
   "id": "43904aac-563e-4e43-beb9-f88b733a29d9",
   "metadata": {},
   "source": [
    "# Create DataFrame for most recently added titles"
   ]
  },
  {
   "cell_type": "code",
   "execution_count": null,
   "id": "b10b1bd1",
   "metadata": {},
   "outputs": [],
   "source": [
    "# Sorted data frames by date_added\n",
    "sorted_netflix_df = netflix_df.sort_values(by = 'date_added', ascending=False)\n",
    "sorted_disney_df = disney_df.sort_values(by = 'date_added', ascending=False)"
   ]
  },
  {
   "cell_type": "code",
   "execution_count": null,
   "id": "60fce31d",
   "metadata": {},
   "outputs": [],
   "source": [
    "# Most recently added 500 titles per platform\n",
    "recentadd_netflix_df = sorted_netflix_df.head(600)\n",
    "recentadd_disney_df = sorted_disney_df.head(600)"
   ]
  },
  {
   "cell_type": "code",
   "execution_count": null,
   "id": "95101d22",
   "metadata": {},
   "outputs": [],
   "source": [
    "# Concatenate recentadd Netflix and Disney+ dataframes\n",
    "recentadd_df = pd.concat([recentadd_netflix_df, recentadd_disney_df], ignore_index=True)\n",
    "len(recentadd_df)"
   ]
  },
  {
   "cell_type": "code",
   "execution_count": null,
   "id": "5dc22954-eddf-461c-bc86-1906df16bb5e",
   "metadata": {},
   "outputs": [],
   "source": [
    "# Extract the primary genre from listed_in by pulling the first values within the list\n",
    "recentadd_df['listed_in'] = recentadd_df['listed_in'].str.split(',')\n",
    "recentadd_df['primary_genre'] = recentadd_df['listed_in'].str.get(0)"
   ]
  },
  {
   "cell_type": "code",
   "execution_count": null,
   "id": "74d8b887-d7ff-4531-8077-a107b7b4ca0d",
   "metadata": {},
   "outputs": [],
   "source": [
    "# Clean dataframe with columns of importance for data analysis\n",
    "recentadd_df = recentadd_df.loc[:, ['title', 'type','release_year', 'primary_genre', 'platform', 'date_added']]"
   ]
  },
  {
   "cell_type": "code",
   "execution_count": null,
   "id": "455ce272",
   "metadata": {},
   "outputs": [],
   "source": [
    "# Add empty columns for IMDb metadata to be pulled from API\n",
    "recentadd_df['imdb_id'] = ''\n",
    "recentadd_df['imdb_rating'] = ''\n",
    "recentadd_df['imdb_votes'] = ''\n",
    "recentadd_df['box_office_sales'] = ''\n",
    "recentadd_df['production_cost'] = ''"
   ]
  },
  {
   "cell_type": "markdown",
   "id": "5a856529-f8ab-449d-ac7a-9990055c3ae7",
   "metadata": {},
   "source": [
    "# Call OMDB API to pull metadata into DataFrame / Save output"
   ]
  },
  {
   "cell_type": "code",
   "execution_count": null,
   "id": "7972e978-4777-418c-962d-5cbd6e604a97",
   "metadata": {},
   "outputs": [],
   "source": [
    "# Import the OMDB API key\n",
    "from api_keys import omdb_api_key"
   ]
  },
  {
   "cell_type": "code",
   "execution_count": null,
   "id": "efb314de-dc68-475e-bfa0-833759e26032",
   "metadata": {},
   "outputs": [],
   "source": [
    "# TEST\n",
    "# Response 200 testing\n",
    "# url = \"http://www.omdbapi.com/?t=\"\n",
    "# api_key = \"&apikey=\" + omdb_api_key\n",
    "# response = requests.get(url + \"Aliens\" + api_key, verify=False)\n",
    "# print(response)"
   ]
  },
  {
   "cell_type": "code",
   "execution_count": null,
   "id": "52a294b7-8a90-4307-9067-7bed60a8df80",
   "metadata": {},
   "outputs": [],
   "source": [
    "# TEST\n",
    "# Printing API URLs out\n",
    "\n",
    "# Establishing base URL for OMDB API\n",
    "# url = \"http://www.omdbapi.com/\"\n",
    "\n",
    "# Construct the API request URL with the title and API key\n",
    "# params = {\n",
    "#        'apikey': omdb_api_key,\n",
    "#    }\n",
    "\n",
    "# Loop through each title in the 'title' column of combined_df\n",
    "# for index, row in combined_df.iterrows():\n",
    "#    time.sleep(2) # Add a delay to avoid hitting the API too quickly\n",
    "    \n",
    "#    title = row['title']\n",
    "#    params['t'] = title # get title from combined_df\n",
    "    \n",
    "# Construct the API URL\n",
    "#    api_url = url + \"?\" + \"&\".join([f\"{key}={value}\" for key, value in params.items()])\n",
    "\n",
    "# Print the API URL for the current title\n",
    "#    print(\"API URL for\", title, \":\", api_url)\n"
   ]
  },
  {
   "cell_type": "code",
   "execution_count": null,
   "id": "8b6a0c9b-0cda-4a1d-a2a6-ad65af5d1611",
   "metadata": {},
   "outputs": [],
   "source": [
    "# Establishing base URL for OMDB API\n",
    "url = \"http://www.omdbapi.com/\"\n",
    "\n",
    "# Construct the API request URL with the title and API key\n",
    "params = {\n",
    "        'apikey': omdb_api_key,\n",
    "    }\n",
    "\n",
    "# Loop through each title in the 'title' column of combined_df\n",
    "for index, row in recentadd_df.iterrows():\n",
    "    time.sleep(1) # Add a delay to avoid hitting the API too quickly\n",
    "    \n",
    "    title = row['title'] # get title from current row\n",
    "    params['t'] = title # establish \"t\" parameter for current title\n",
    " \n",
    "   # Run an API request for each of the titles\n",
    "    try:\n",
    "        # Parse the JSON and retrieve data\n",
    "        omdb_response = requests.get(url, params=params, verify=False)\n",
    "        omdb_data = omdb_response.json()\n",
    "    \n",
    "    # Parse out OMDB ratings, votes, etc.\n",
    "        id = omdb_data.get('imdbID')\n",
    "        rating = omdb_data.get('imdbRating')\n",
    "        votes = omdb_data.get('imdbVotes')\n",
    "        box_office_sales = omdb_data.get('BoxOffice')\n",
    "        prod_cost = omdb_data.get('Production')\n",
    "        \n",
    "    # Assign OMDB information into combined_df\n",
    "        recentadd_df.at[index, \"imdb_id\"] = id\n",
    "        recentadd_df.at[index, \"imdb_rating\"] = rating\n",
    "        recentadd_df.at[index, \"imdb_votes\"] = votes \n",
    "        recentadd_df.at[index, \"box_office_sales\"] = box_office_sales \n",
    "        recentadd_df.at[index, \"production_cost\"] = prod_cost\n",
    "\n",
    "                             \n",
    "        print(f\"Data retrieved for '{title}': imdbRating = {rating}, imdbVotes = {votes}\")\n",
    "    except Exception as e:\n",
    "        print(f\"Failed to fetch data for '{title}': {e}\")"
   ]
  },
  {
   "cell_type": "code",
   "execution_count": null,
   "id": "b47a8d82-6b8a-4230-9019-18e38dc466c6",
   "metadata": {},
   "outputs": [],
   "source": [
    "# Show record count\n",
    "recentadd_df.count()"
   ]
  },
  {
   "cell_type": "code",
   "execution_count": null,
   "id": "b0e06aba-09c1-4d7d-95bd-3c3b78b28dad",
   "metadata": {},
   "outputs": [],
   "source": [
    "# Display new DataFrame with new OMDB metadata\n",
    "recentadd_df.head()"
   ]
  },
  {
   "cell_type": "code",
   "execution_count": null,
   "id": "1438bb0f-b098-492c-a769-4c54a6230eca",
   "metadata": {},
   "outputs": [],
   "source": [
    "# Export the recentadd_rated_df into a csv\n",
    "recentadd_df.to_csv(\"../output/recentadd_rated2.csv\", index_label=\"index\")"
   ]
  },
  {
   "cell_type": "markdown",
   "id": "564bab7f-06a3-40d4-9d3e-9c3ed3b7e710",
   "metadata": {},
   "source": [
    "# Read in ratings data file and create DataFrame"
   ]
  },
  {
   "cell_type": "code",
   "execution_count": 88,
   "id": "f4e3f90f-404e-4762-85a5-df0b60b721c3",
   "metadata": {},
   "outputs": [],
   "source": [
    "# New ratings file\n",
    "new_data_path = \"../output/recentadd_rated2.csv\""
   ]
  },
  {
   "cell_type": "code",
   "execution_count": 89,
   "id": "99ed359a-2bbe-45de-8c80-07af7b2a993e",
   "metadata": {},
   "outputs": [
    {
     "data": {
      "text/html": [
       "<div>\n",
       "<style scoped>\n",
       "    .dataframe tbody tr th:only-of-type {\n",
       "        vertical-align: middle;\n",
       "    }\n",
       "\n",
       "    .dataframe tbody tr th {\n",
       "        vertical-align: top;\n",
       "    }\n",
       "\n",
       "    .dataframe thead th {\n",
       "        text-align: right;\n",
       "    }\n",
       "</style>\n",
       "<table border=\"1\" class=\"dataframe\">\n",
       "  <thead>\n",
       "    <tr style=\"text-align: right;\">\n",
       "      <th></th>\n",
       "      <th>index</th>\n",
       "      <th>title</th>\n",
       "      <th>type</th>\n",
       "      <th>release_year</th>\n",
       "      <th>primary_genre</th>\n",
       "      <th>platform</th>\n",
       "      <th>date_added</th>\n",
       "      <th>imdb_id</th>\n",
       "      <th>imdb_rating</th>\n",
       "      <th>imdb_votes</th>\n",
       "      <th>box_office_sales</th>\n",
       "      <th>production_cost</th>\n",
       "    </tr>\n",
       "  </thead>\n",
       "  <tbody>\n",
       "    <tr>\n",
       "      <th>0</th>\n",
       "      <td>0</td>\n",
       "      <td>Dick Johnson Is Dead</td>\n",
       "      <td>Movie</td>\n",
       "      <td>2020</td>\n",
       "      <td>Documentaries</td>\n",
       "      <td>Netflix</td>\n",
       "      <td>2021-09-25</td>\n",
       "      <td>tt11394180</td>\n",
       "      <td>7.4</td>\n",
       "      <td>7,204</td>\n",
       "      <td>NaN</td>\n",
       "      <td>NaN</td>\n",
       "    </tr>\n",
       "    <tr>\n",
       "      <th>1</th>\n",
       "      <td>1</td>\n",
       "      <td>My Little Pony: A New Generation</td>\n",
       "      <td>Movie</td>\n",
       "      <td>2021</td>\n",
       "      <td>Children &amp; Family Movies</td>\n",
       "      <td>Netflix</td>\n",
       "      <td>2021-09-24</td>\n",
       "      <td>tt10101702</td>\n",
       "      <td>6.8</td>\n",
       "      <td>4,475</td>\n",
       "      <td>NaN</td>\n",
       "      <td>NaN</td>\n",
       "    </tr>\n",
       "    <tr>\n",
       "      <th>2</th>\n",
       "      <td>2</td>\n",
       "      <td>Vendetta: Truth, Lies and The Mafia</td>\n",
       "      <td>TV Show</td>\n",
       "      <td>2021</td>\n",
       "      <td>Crime TV Shows</td>\n",
       "      <td>Netflix</td>\n",
       "      <td>2021-09-24</td>\n",
       "      <td>NaN</td>\n",
       "      <td>NaN</td>\n",
       "      <td>NaN</td>\n",
       "      <td>NaN</td>\n",
       "      <td>NaN</td>\n",
       "    </tr>\n",
       "    <tr>\n",
       "      <th>3</th>\n",
       "      <td>3</td>\n",
       "      <td>The Starling</td>\n",
       "      <td>Movie</td>\n",
       "      <td>2021</td>\n",
       "      <td>Comedies</td>\n",
       "      <td>Netflix</td>\n",
       "      <td>2021-09-24</td>\n",
       "      <td>tt5164438</td>\n",
       "      <td>6.4</td>\n",
       "      <td>15,290</td>\n",
       "      <td>NaN</td>\n",
       "      <td>NaN</td>\n",
       "    </tr>\n",
       "    <tr>\n",
       "      <th>4</th>\n",
       "      <td>4</td>\n",
       "      <td>The Great British Baking Show</td>\n",
       "      <td>TV Show</td>\n",
       "      <td>2021</td>\n",
       "      <td>British TV Shows</td>\n",
       "      <td>Netflix</td>\n",
       "      <td>2021-09-24</td>\n",
       "      <td>tt1877368</td>\n",
       "      <td>8.6</td>\n",
       "      <td>12,807</td>\n",
       "      <td>NaN</td>\n",
       "      <td>NaN</td>\n",
       "    </tr>\n",
       "    <tr>\n",
       "      <th>...</th>\n",
       "      <td>...</td>\n",
       "      <td>...</td>\n",
       "      <td>...</td>\n",
       "      <td>...</td>\n",
       "      <td>...</td>\n",
       "      <td>...</td>\n",
       "      <td>...</td>\n",
       "      <td>...</td>\n",
       "      <td>...</td>\n",
       "      <td>...</td>\n",
       "      <td>...</td>\n",
       "      <td>...</td>\n",
       "    </tr>\n",
       "    <tr>\n",
       "      <th>1195</th>\n",
       "      <td>1195</td>\n",
       "      <td>Dolphin Reef</td>\n",
       "      <td>Movie</td>\n",
       "      <td>2018</td>\n",
       "      <td>Animals &amp; Nature</td>\n",
       "      <td>Disney+</td>\n",
       "      <td>2020-04-03</td>\n",
       "      <td>tt10055028</td>\n",
       "      <td>7.4</td>\n",
       "      <td>1,248</td>\n",
       "      <td>NaN</td>\n",
       "      <td>NaN</td>\n",
       "    </tr>\n",
       "    <tr>\n",
       "      <th>1196</th>\n",
       "      <td>1196</td>\n",
       "      <td>Diving with Dolphins</td>\n",
       "      <td>Movie</td>\n",
       "      <td>2020</td>\n",
       "      <td>Animals &amp; Nature</td>\n",
       "      <td>Disney+</td>\n",
       "      <td>2020-04-03</td>\n",
       "      <td>tt12100080</td>\n",
       "      <td>7.0</td>\n",
       "      <td>215</td>\n",
       "      <td>NaN</td>\n",
       "      <td>NaN</td>\n",
       "    </tr>\n",
       "    <tr>\n",
       "      <th>1197</th>\n",
       "      <td>1197</td>\n",
       "      <td>Disneynature Penguins</td>\n",
       "      <td>Movie</td>\n",
       "      <td>2019</td>\n",
       "      <td>Animals &amp; Nature</td>\n",
       "      <td>Disney+</td>\n",
       "      <td>2020-04-03</td>\n",
       "      <td>NaN</td>\n",
       "      <td>NaN</td>\n",
       "      <td>NaN</td>\n",
       "      <td>NaN</td>\n",
       "      <td>NaN</td>\n",
       "    </tr>\n",
       "    <tr>\n",
       "      <th>1198</th>\n",
       "      <td>1198</td>\n",
       "      <td>A Tale of Two Critters</td>\n",
       "      <td>Movie</td>\n",
       "      <td>1977</td>\n",
       "      <td>Animals &amp; Nature</td>\n",
       "      <td>Disney+</td>\n",
       "      <td>2020-04-03</td>\n",
       "      <td>tt0287003</td>\n",
       "      <td>5.9</td>\n",
       "      <td>244</td>\n",
       "      <td>NaN</td>\n",
       "      <td>NaN</td>\n",
       "    </tr>\n",
       "    <tr>\n",
       "      <th>1199</th>\n",
       "      <td>1199</td>\n",
       "      <td>All in a Nutshell</td>\n",
       "      <td>Movie</td>\n",
       "      <td>1949</td>\n",
       "      <td>Animation</td>\n",
       "      <td>Disney+</td>\n",
       "      <td>2020-04-03</td>\n",
       "      <td>tt0041112</td>\n",
       "      <td>7.3</td>\n",
       "      <td>1,345</td>\n",
       "      <td>NaN</td>\n",
       "      <td>NaN</td>\n",
       "    </tr>\n",
       "  </tbody>\n",
       "</table>\n",
       "<p>1200 rows × 12 columns</p>\n",
       "</div>"
      ],
      "text/plain": [
       "      index                                title     type  release_year  \\\n",
       "0         0                 Dick Johnson Is Dead    Movie          2020   \n",
       "1         1     My Little Pony: A New Generation    Movie          2021   \n",
       "2         2  Vendetta: Truth, Lies and The Mafia  TV Show          2021   \n",
       "3         3                         The Starling    Movie          2021   \n",
       "4         4        The Great British Baking Show  TV Show          2021   \n",
       "...     ...                                  ...      ...           ...   \n",
       "1195   1195                         Dolphin Reef    Movie          2018   \n",
       "1196   1196                 Diving with Dolphins    Movie          2020   \n",
       "1197   1197                Disneynature Penguins    Movie          2019   \n",
       "1198   1198               A Tale of Two Critters    Movie          1977   \n",
       "1199   1199                    All in a Nutshell    Movie          1949   \n",
       "\n",
       "                 primary_genre platform  date_added     imdb_id  imdb_rating  \\\n",
       "0                Documentaries  Netflix  2021-09-25  tt11394180          7.4   \n",
       "1     Children & Family Movies  Netflix  2021-09-24  tt10101702          6.8   \n",
       "2               Crime TV Shows  Netflix  2021-09-24         NaN          NaN   \n",
       "3                     Comedies  Netflix  2021-09-24   tt5164438          6.4   \n",
       "4             British TV Shows  Netflix  2021-09-24   tt1877368          8.6   \n",
       "...                        ...      ...         ...         ...          ...   \n",
       "1195          Animals & Nature  Disney+  2020-04-03  tt10055028          7.4   \n",
       "1196          Animals & Nature  Disney+  2020-04-03  tt12100080          7.0   \n",
       "1197          Animals & Nature  Disney+  2020-04-03         NaN          NaN   \n",
       "1198          Animals & Nature  Disney+  2020-04-03   tt0287003          5.9   \n",
       "1199                 Animation  Disney+  2020-04-03   tt0041112          7.3   \n",
       "\n",
       "     imdb_votes box_office_sales production_cost  \n",
       "0         7,204              NaN             NaN  \n",
       "1         4,475              NaN             NaN  \n",
       "2           NaN              NaN             NaN  \n",
       "3        15,290              NaN             NaN  \n",
       "4        12,807              NaN             NaN  \n",
       "...         ...              ...             ...  \n",
       "1195      1,248              NaN             NaN  \n",
       "1196        215              NaN             NaN  \n",
       "1197        NaN              NaN             NaN  \n",
       "1198        244              NaN             NaN  \n",
       "1199      1,345              NaN             NaN  \n",
       "\n",
       "[1200 rows x 12 columns]"
      ]
     },
     "execution_count": 89,
     "metadata": {},
     "output_type": "execute_result"
    }
   ],
   "source": [
    "# Read the new Netflix and Disney+ data\n",
    "new_combined_data = pd.read_csv(new_data_path)\n",
    "new_combined_df= pd.DataFrame(new_combined_data)\n",
    "new_combined_df"
   ]
  },
  {
   "cell_type": "code",
   "execution_count": 90,
   "id": "fb1fb28c-685b-4884-b0e4-b27be2ccd051",
   "metadata": {
    "scrolled": true
   },
   "outputs": [
    {
     "name": "stdout",
     "output_type": "stream",
     "text": [
      "Number of blank values in each column:\n",
      "index                  0\n",
      "title                  0\n",
      "type                   0\n",
      "release_year           0\n",
      "primary_genre          0\n",
      "platform               0\n",
      "date_added             0\n",
      "imdb_id              154\n",
      "imdb_rating          227\n",
      "imdb_votes           171\n",
      "box_office_sales     913\n",
      "production_cost     1198\n",
      "dtype: int64\n"
     ]
    }
   ],
   "source": [
    "# Count blank values in each column\n",
    "blank_counts = new_combined_df.isna().sum()\n",
    "\n",
    "# Print the results\n",
    "print(\"Number of blank values in each column:\")\n",
    "print(blank_counts)"
   ]
  },
  {
   "cell_type": "code",
   "execution_count": 91,
   "id": "2275acb1-985c-4415-92b2-d2c83b901ff6",
   "metadata": {},
   "outputs": [
    {
     "name": "stdout",
     "output_type": "stream",
     "text": [
      "For platform Netflix:\n",
      "Number of blank values in each column:\n",
      "index                 0\n",
      "title                 0\n",
      "type                  0\n",
      "release_year          0\n",
      "primary_genre         0\n",
      "platform              0\n",
      "date_added            0\n",
      "imdb_id              55\n",
      "imdb_rating          83\n",
      "imdb_votes           66\n",
      "box_office_sales    447\n",
      "production_cost     598\n",
      "dtype: int64\n",
      "\n",
      "\n",
      "For platform Disney+:\n",
      "Number of blank values in each column:\n",
      "index                 0\n",
      "title                 0\n",
      "type                  0\n",
      "release_year          0\n",
      "primary_genre         0\n",
      "platform              0\n",
      "date_added            0\n",
      "imdb_id              99\n",
      "imdb_rating         144\n",
      "imdb_votes          105\n",
      "box_office_sales    466\n",
      "production_cost     600\n",
      "dtype: int64\n",
      "\n",
      "\n"
     ]
    }
   ],
   "source": [
    "# NaN values for each platform\n",
    "platforms = new_combined_df['platform'].unique()\n",
    "\n",
    "# Iterate over each platform\n",
    "for platform in platforms:\n",
    "    platform_df = new_combined_df[new_combined_df['platform'] == platform]\n",
    "    \n",
    "    # Count blank values for each column\n",
    "    blank_counts = platform_df.isna().sum()\n",
    "    \n",
    "    # Print results\n",
    "    print(f\"For platform {platform}:\")\n",
    "    print(\"Number of blank values in each column:\")\n",
    "    print(blank_counts)\n",
    "    print(\"\\n\")"
   ]
  },
  {
   "cell_type": "code",
   "execution_count": 92,
   "id": "e304913c-a973-42a5-8fb6-9ff3b738044f",
   "metadata": {},
   "outputs": [],
   "source": [
    "# Remove \"None\" and \"N/A\" values to create clean dataframe\n",
    "new_combined_df.dropna(subset=['imdb_rating', 'imdb_votes'], inplace=True)\n",
    "new_combined_df.drop(columns=['index','box_office_sales',\t'production_cost'], inplace=True)"
   ]
  },
  {
   "cell_type": "code",
   "execution_count": 93,
   "id": "cc89dc9a-fb04-4163-84dd-d9b34511abaf",
   "metadata": {},
   "outputs": [
    {
     "data": {
      "text/html": [
       "<div>\n",
       "<style scoped>\n",
       "    .dataframe tbody tr th:only-of-type {\n",
       "        vertical-align: middle;\n",
       "    }\n",
       "\n",
       "    .dataframe tbody tr th {\n",
       "        vertical-align: top;\n",
       "    }\n",
       "\n",
       "    .dataframe thead th {\n",
       "        text-align: right;\n",
       "    }\n",
       "</style>\n",
       "<table border=\"1\" class=\"dataframe\">\n",
       "  <thead>\n",
       "    <tr style=\"text-align: right;\">\n",
       "      <th></th>\n",
       "      <th>title</th>\n",
       "      <th>type</th>\n",
       "      <th>release_year</th>\n",
       "      <th>primary_genre</th>\n",
       "      <th>platform</th>\n",
       "      <th>date_added</th>\n",
       "      <th>imdb_id</th>\n",
       "      <th>imdb_rating</th>\n",
       "      <th>imdb_votes</th>\n",
       "    </tr>\n",
       "  </thead>\n",
       "  <tbody>\n",
       "    <tr>\n",
       "      <th>0</th>\n",
       "      <td>Dick Johnson Is Dead</td>\n",
       "      <td>Movie</td>\n",
       "      <td>2020</td>\n",
       "      <td>Documentaries</td>\n",
       "      <td>Netflix</td>\n",
       "      <td>2021-09-25</td>\n",
       "      <td>tt11394180</td>\n",
       "      <td>7.4</td>\n",
       "      <td>7,204</td>\n",
       "    </tr>\n",
       "    <tr>\n",
       "      <th>1</th>\n",
       "      <td>My Little Pony: A New Generation</td>\n",
       "      <td>Movie</td>\n",
       "      <td>2021</td>\n",
       "      <td>Children &amp; Family Movies</td>\n",
       "      <td>Netflix</td>\n",
       "      <td>2021-09-24</td>\n",
       "      <td>tt10101702</td>\n",
       "      <td>6.8</td>\n",
       "      <td>4,475</td>\n",
       "    </tr>\n",
       "    <tr>\n",
       "      <th>3</th>\n",
       "      <td>The Starling</td>\n",
       "      <td>Movie</td>\n",
       "      <td>2021</td>\n",
       "      <td>Comedies</td>\n",
       "      <td>Netflix</td>\n",
       "      <td>2021-09-24</td>\n",
       "      <td>tt5164438</td>\n",
       "      <td>6.4</td>\n",
       "      <td>15,290</td>\n",
       "    </tr>\n",
       "    <tr>\n",
       "      <th>4</th>\n",
       "      <td>The Great British Baking Show</td>\n",
       "      <td>TV Show</td>\n",
       "      <td>2021</td>\n",
       "      <td>British TV Shows</td>\n",
       "      <td>Netflix</td>\n",
       "      <td>2021-09-24</td>\n",
       "      <td>tt1877368</td>\n",
       "      <td>8.6</td>\n",
       "      <td>12,807</td>\n",
       "    </tr>\n",
       "    <tr>\n",
       "      <th>5</th>\n",
       "      <td>Sankofa</td>\n",
       "      <td>Movie</td>\n",
       "      <td>1993</td>\n",
       "      <td>Dramas</td>\n",
       "      <td>Netflix</td>\n",
       "      <td>2021-09-24</td>\n",
       "      <td>tt0108041</td>\n",
       "      <td>7.0</td>\n",
       "      <td>784</td>\n",
       "    </tr>\n",
       "  </tbody>\n",
       "</table>\n",
       "</div>"
      ],
      "text/plain": [
       "                              title     type  release_year  \\\n",
       "0              Dick Johnson Is Dead    Movie          2020   \n",
       "1  My Little Pony: A New Generation    Movie          2021   \n",
       "3                      The Starling    Movie          2021   \n",
       "4     The Great British Baking Show  TV Show          2021   \n",
       "5                           Sankofa    Movie          1993   \n",
       "\n",
       "              primary_genre platform  date_added     imdb_id  imdb_rating  \\\n",
       "0             Documentaries  Netflix  2021-09-25  tt11394180          7.4   \n",
       "1  Children & Family Movies  Netflix  2021-09-24  tt10101702          6.8   \n",
       "3                  Comedies  Netflix  2021-09-24   tt5164438          6.4   \n",
       "4          British TV Shows  Netflix  2021-09-24   tt1877368          8.6   \n",
       "5                    Dramas  Netflix  2021-09-24   tt0108041          7.0   \n",
       "\n",
       "  imdb_votes  \n",
       "0      7,204  \n",
       "1      4,475  \n",
       "3     15,290  \n",
       "4     12,807  \n",
       "5        784  "
      ]
     },
     "execution_count": 93,
     "metadata": {},
     "output_type": "execute_result"
    }
   ],
   "source": [
    "new_combined_df.head()"
   ]
  },
  {
   "cell_type": "code",
   "execution_count": null,
   "id": "e279b735-e71f-4bd3-b9d5-cb537af0deda",
   "metadata": {},
   "outputs": [],
   "source": []
  },
  {
   "cell_type": "markdown",
   "id": "db83cd59-3de5-40af-b506-3f05cac9c342",
   "metadata": {},
   "source": [
    "# Generate Summary Statistics for each platform"
   ]
  },
  {
   "cell_type": "code",
   "execution_count": 96,
   "id": "941dc8d6",
   "metadata": {},
   "outputs": [
    {
     "data": {
      "image/png": "[encoded data removed]",
      "text/plain": [
       "<Figure size 1000x600 with 1 Axes>"
      ]
     },
     "metadata": {},
     "output_type": "display_data"
    }
   ],
   "source": [
    "# Generate a box plot that shows the distrubution of IMDB rating for each platform.\n",
    "plt.figure(figsize=(10, 6))\n",
    "sns.boxplot(data=new_combined_df, x='platform', y='imdb_rating')\n",
    "plt.title('Box Plot of IMDb Ratings by Platform')\n",
    "plt.xlabel('Platform')\n",
    "plt.ylabel('IMDB Rating')\n",
    "plt.xticks(rotation=45)\n",
    "# Save the plot to the output folder\n",
    "plt.savefig(os.path.join('../output', 'BoxPlot_of_IMDbRatings_Platform.png'))\n",
    "plt.show()"
   ]
  },
  {
   "cell_type": "code",
   "execution_count": null,
   "id": "400ddf7f-ae75-454e-9eeb-a096164014ca",
   "metadata": {},
   "outputs": [],
   "source": [
    "# # change production_cost dtype to float\n",
    "# new_combined_df['production_cost'] = new_combined_df['production_cost'].astype(float)"
   ]
  },
  {
   "cell_type": "code",
   "execution_count": 9,
   "id": "0c4a639d-14ee-4a2a-bca9-1fe815234e63",
   "metadata": {},
   "outputs": [],
   "source": [
    "# # Group by 'platform' and calculate the average production cost for each platform\n",
    "# average_production_cost_per_platform = new_combined_df.groupby('platform')['production_cost'].mean()\n",
    "\n",
    "# # Plot the bar chart\n",
    "# average_production_cost_per_platform.plot(kind='bar', figsize=(10, 6), color='skyblue')\n",
    "\n",
    "# # Set the title and labels\n",
    "# plt.title('Average Production Cost per Platform')\n",
    "# plt.xlabel('Platform')\n",
    "# plt.ylabel('Average Production Cost')\n",
    "\n",
    "# # Show the plot\n",
    "# plt.xticks(rotation=45)  # Rotate x-axis labels for better readability\n",
    "# plt.tight_layout()  # Adjust layout to prevent clipping of labels\n",
    "# plt.savefig(os.path.join('../output', 'Average_Production_Cost_per_Platform.png'))\n",
    "# plt.show()"
   ]
  },
  {
   "cell_type": "code",
   "execution_count": 97,
   "id": "0aaa965c-f4aa-44ad-b650-988178c1cdb2",
   "metadata": {},
   "outputs": [
    {
     "data": {
      "text/html": [
       "<div>\n",
       "<style scoped>\n",
       "    .dataframe tbody tr th:only-of-type {\n",
       "        vertical-align: middle;\n",
       "    }\n",
       "\n",
       "    .dataframe tbody tr th {\n",
       "        vertical-align: top;\n",
       "    }\n",
       "\n",
       "    .dataframe thead th {\n",
       "        text-align: right;\n",
       "    }\n",
       "</style>\n",
       "<table border=\"1\" class=\"dataframe\">\n",
       "  <thead>\n",
       "    <tr style=\"text-align: right;\">\n",
       "      <th></th>\n",
       "      <th>Mean IMDB Rating</th>\n",
       "      <th>Median IMDB Rating</th>\n",
       "      <th>IMDB Rating Variance</th>\n",
       "      <th>IMDB Rating Std. Dev.</th>\n",
       "      <th>IMDB Rating Std. Err.</th>\n",
       "    </tr>\n",
       "    <tr>\n",
       "      <th>platform</th>\n",
       "      <th></th>\n",
       "      <th></th>\n",
       "      <th></th>\n",
       "      <th></th>\n",
       "      <th></th>\n",
       "    </tr>\n",
       "  </thead>\n",
       "  <tbody>\n",
       "    <tr>\n",
       "      <th>Disney+</th>\n",
       "      <td>6.720833</td>\n",
       "      <td>6.8</td>\n",
       "      <td>1.125609</td>\n",
       "      <td>1.060947</td>\n",
       "      <td>0.049683</td>\n",
       "    </tr>\n",
       "    <tr>\n",
       "      <th>Netflix</th>\n",
       "      <td>6.510445</td>\n",
       "      <td>6.6</td>\n",
       "      <td>1.411557</td>\n",
       "      <td>1.188090</td>\n",
       "      <td>0.052252</td>\n",
       "    </tr>\n",
       "  </tbody>\n",
       "</table>\n",
       "</div>"
      ],
      "text/plain": [
       "          Mean IMDB Rating  Median IMDB Rating  IMDB Rating Variance  \\\n",
       "platform                                                               \n",
       "Disney+           6.720833                 6.8              1.125609   \n",
       "Netflix           6.510445                 6.6              1.411557   \n",
       "\n",
       "          IMDB Rating Std. Dev.  IMDB Rating Std. Err.  \n",
       "platform                                                \n",
       "Disney+                1.060947               0.049683  \n",
       "Netflix                1.188090               0.052252  "
      ]
     },
     "execution_count": 97,
     "metadata": {},
     "output_type": "execute_result"
    }
   ],
   "source": [
    "# Generate a summary statistics table of mean, median, variance, standard deviation, and SEM \n",
    "\n",
    "mean= new_combined_df['imdb_rating'].groupby(new_combined_df['platform']).mean()\n",
    "median= new_combined_df['imdb_rating'].groupby(new_combined_df['platform']).median()\n",
    "var= new_combined_df['imdb_rating'].groupby(new_combined_df['platform']).var()\n",
    "std= new_combined_df['imdb_rating'].groupby(new_combined_df['platform']).std()\n",
    "sem= new_combined_df['imdb_rating'].groupby(new_combined_df['platform']).sem()\n",
    "\n",
    "imdb_rating_summary_df=pd.DataFrame({'Mean IMDB Rating': mean,\n",
    "                         'Median IMDB Rating': median,\n",
    "                         'IMDB Rating Variance':var,\n",
    "                         'IMDB Rating Std. Dev.':std,\n",
    "                         'IMDB Rating Std. Err.':sem})\n",
    "\n",
    "imdb_rating_summary_df"
   ]
  },
  {
   "cell_type": "code",
   "execution_count": 98,
   "id": "4c328a2f-727b-4b1c-8c25-b032d1c12182",
   "metadata": {},
   "outputs": [],
   "source": [
    "# Remove commas from imdb_votes column\n",
    "new_combined_df['imdb_votes']   = new_combined_df['imdb_votes'].str.replace(',', '')\n",
    "\n",
    "# Convert dtype of imdb_votes to float\n",
    "new_combined_df['imdb_votes']  = new_combined_df['imdb_votes'] .astype(float)\n"
   ]
  },
  {
   "cell_type": "code",
   "execution_count": 99,
   "id": "fbcc7a75-caaf-4af9-acb9-1fb9ab8e768a",
   "metadata": {
    "scrolled": true
   },
   "outputs": [
    {
     "data": {
      "text/html": [
       "<div>\n",
       "<style scoped>\n",
       "    .dataframe tbody tr th:only-of-type {\n",
       "        vertical-align: middle;\n",
       "    }\n",
       "\n",
       "    .dataframe tbody tr th {\n",
       "        vertical-align: top;\n",
       "    }\n",
       "\n",
       "    .dataframe thead th {\n",
       "        text-align: right;\n",
       "    }\n",
       "</style>\n",
       "<table border=\"1\" class=\"dataframe\">\n",
       "  <thead>\n",
       "    <tr style=\"text-align: right;\">\n",
       "      <th></th>\n",
       "      <th>Mean IMDB Votes</th>\n",
       "      <th>Median IMDB Votes</th>\n",
       "      <th>IMDB Votes Variance</th>\n",
       "      <th>IMDB Votes Std. Dev.</th>\n",
       "      <th>IMDB Votes Std. Err.</th>\n",
       "    </tr>\n",
       "    <tr>\n",
       "      <th>platform</th>\n",
       "      <th></th>\n",
       "      <th></th>\n",
       "      <th></th>\n",
       "      <th></th>\n",
       "      <th></th>\n",
       "    </tr>\n",
       "  </thead>\n",
       "  <tbody>\n",
       "    <tr>\n",
       "      <th>Disney+</th>\n",
       "      <td>61690.427632</td>\n",
       "      <td>2430.0</td>\n",
       "      <td>1.876574e+10</td>\n",
       "      <td>136988.086225</td>\n",
       "      <td>6415.054896</td>\n",
       "    </tr>\n",
       "    <tr>\n",
       "      <th>Netflix</th>\n",
       "      <td>61179.787234</td>\n",
       "      <td>6159.0</td>\n",
       "      <td>3.085073e+10</td>\n",
       "      <td>175643.753130</td>\n",
       "      <td>7724.803430</td>\n",
       "    </tr>\n",
       "  </tbody>\n",
       "</table>\n",
       "</div>"
      ],
      "text/plain": [
       "          Mean IMDB Votes  Median IMDB Votes  IMDB Votes Variance  \\\n",
       "platform                                                            \n",
       "Disney+      61690.427632             2430.0         1.876574e+10   \n",
       "Netflix      61179.787234             6159.0         3.085073e+10   \n",
       "\n",
       "          IMDB Votes Std. Dev.  IMDB Votes Std. Err.  \n",
       "platform                                              \n",
       "Disney+          136988.086225           6415.054896  \n",
       "Netflix          175643.753130           7724.803430  "
      ]
     },
     "execution_count": 99,
     "metadata": {},
     "output_type": "execute_result"
    }
   ],
   "source": [
    "# Generate a summary statistics table of mean, median, variance, standard deviation, and SEM \n",
    "\n",
    "mean= new_combined_df['imdb_votes'].groupby(new_combined_df['platform']).mean()\n",
    "median= new_combined_df['imdb_votes'].groupby(new_combined_df['platform']).median()\n",
    "var= new_combined_df['imdb_votes'].groupby(new_combined_df['platform']).var()\n",
    "std= new_combined_df['imdb_votes'].groupby(new_combined_df['platform']).std()\n",
    "sem= new_combined_df['imdb_votes'].groupby(new_combined_df['platform']).sem()\n",
    "\n",
    "imdb_votes_summary_df=pd.DataFrame({'Mean IMDB Votes': mean,\n",
    "                         'Median IMDB Votes': median,\n",
    "                         'IMDB Votes Variance':var,\n",
    "                         'IMDB Votes Std. Dev.':std,\n",
    "                         'IMDB Votes Std. Err.':sem})\n",
    "\n",
    "imdb_votes_summary_df"
   ]
  },
  {
   "cell_type": "markdown",
   "id": "b583e223-22fe-4220-8697-33e5145ca6ce",
   "metadata": {},
   "source": [
    "# Correlation and Regression for Netflix"
   ]
  },
  {
   "cell_type": "code",
   "execution_count": 102,
   "id": "d2e36d2f-e351-4334-b6c9-0bdb006cbc78",
   "metadata": {
    "scrolled": true
   },
   "outputs": [
    {
     "data": {
      "image/png": "[encoded data removed]",
      "text/plain": [
       "<Figure size 640x480 with 1 Axes>"
      ]
     },
     "metadata": {},
     "output_type": "display_data"
    }
   ],
   "source": [
    "# Generate a scatter plot of IMDB Votes vs. the average rating for Netflix\n",
    "netflix_data= new_combined_df.loc[new_combined_df['platform']=='Netflix'].groupby('imdb_id')\n",
    "netflix_avg_imdb_rating = netflix_data['imdb_rating'].mean()\n",
    "netflix_imdb_vote = netflix_data[\"imdb_votes\"].unique()\n",
    "plt.scatter(netflix_imdb_vote, netflix_avg_imdb_rating)\n",
    "plt.xlabel(\"IMDB votes\")\n",
    "plt.ylabel(\"IMDB rating\")\n",
    "plt.show()"
   ]
  },
  {
   "cell_type": "code",
   "execution_count": 103,
   "id": "8ab36334-0351-4961-8633-4ba040e4e0ba",
   "metadata": {},
   "outputs": [
    {
     "name": "stdout",
     "output_type": "stream",
     "text": [
      "The correlation between IMDB votes and the average IMDB rating is 0.2089.\n"
     ]
    },
    {
     "data": {
      "image/png": "[encoded data removed]",
      "text/plain": [
       "<Figure size 640x480 with 1 Axes>"
      ]
     },
     "metadata": {},
     "output_type": "display_data"
    }
   ],
   "source": [
    "# Calculate the correlation coefficient and a linear regression model for IMDB Votes vs. the average rating for Netflix\n",
    "correlation = st.pearsonr(netflix_imdb_vote, netflix_avg_imdb_rating)\n",
    "rounded_corr = round(float(correlation[0]), 4)\n",
    "netflix_imdb_vote = netflix_imdb_vote.astype(float)\n",
    "(slope, intercept, rvalue, pvalue, stderr) = st.linregress(netflix_imdb_vote, netflix_avg_imdb_rating)\n",
    "line_eq = f'y = {(round(slope,5))}x + {(round(intercept,2))}'\n",
    "regress_values = netflix_imdb_vote * slope + intercept\n",
    "plt.scatter(netflix_imdb_vote, netflix_avg_imdb_rating)\n",
    "plt.plot(netflix_imdb_vote,regress_values,\"r-\")\n",
    "x_mean = np.mean(netflix_imdb_vote)\n",
    "y_mean = np.mean(netflix_avg_imdb_rating)\n",
    "x_text = x_mean\n",
    "y_text = slope * x_mean + intercept\n",
    "plt.annotate( line_eq,(x_text,y_text), fontsize=14, color='red')\n",
    "plt.xlabel(\"Number of IMDB votes\")\n",
    "plt.ylabel(\"Average IMDB rating\")\n",
    "print(f\"The correlation between IMDB votes and the average IMDB rating is {rounded_corr}.\")\n",
    "plt.show()"
   ]
  },
  {
   "cell_type": "code",
   "execution_count": 104,
   "id": "7d32e9d5-abc3-4c26-b0a3-526b63c8577f",
   "metadata": {},
   "outputs": [
    {
     "data": {
      "text/html": [
       "<div>\n",
       "<style scoped>\n",
       "    .dataframe tbody tr th:only-of-type {\n",
       "        vertical-align: middle;\n",
       "    }\n",
       "\n",
       "    .dataframe tbody tr th {\n",
       "        vertical-align: top;\n",
       "    }\n",
       "\n",
       "    .dataframe thead th {\n",
       "        text-align: right;\n",
       "    }\n",
       "</style>\n",
       "<table border=\"1\" class=\"dataframe\">\n",
       "  <thead>\n",
       "    <tr style=\"text-align: right;\">\n",
       "      <th></th>\n",
       "      <th>title</th>\n",
       "      <th>type</th>\n",
       "      <th>release_year</th>\n",
       "      <th>primary_genre</th>\n",
       "      <th>platform</th>\n",
       "      <th>date_added</th>\n",
       "      <th>imdb_id</th>\n",
       "      <th>imdb_rating</th>\n",
       "      <th>imdb_votes</th>\n",
       "    </tr>\n",
       "  </thead>\n",
       "  <tbody>\n",
       "    <tr>\n",
       "      <th>0</th>\n",
       "      <td>Dick Johnson Is Dead</td>\n",
       "      <td>Movie</td>\n",
       "      <td>2020</td>\n",
       "      <td>Documentaries</td>\n",
       "      <td>Netflix</td>\n",
       "      <td>2021-09-25</td>\n",
       "      <td>tt11394180</td>\n",
       "      <td>7.4</td>\n",
       "      <td>7204.0</td>\n",
       "    </tr>\n",
       "    <tr>\n",
       "      <th>1</th>\n",
       "      <td>My Little Pony: A New Generation</td>\n",
       "      <td>Movie</td>\n",
       "      <td>2021</td>\n",
       "      <td>Children &amp; Family Movies</td>\n",
       "      <td>Netflix</td>\n",
       "      <td>2021-09-24</td>\n",
       "      <td>tt10101702</td>\n",
       "      <td>6.8</td>\n",
       "      <td>4475.0</td>\n",
       "    </tr>\n",
       "    <tr>\n",
       "      <th>3</th>\n",
       "      <td>The Starling</td>\n",
       "      <td>Movie</td>\n",
       "      <td>2021</td>\n",
       "      <td>Comedies</td>\n",
       "      <td>Netflix</td>\n",
       "      <td>2021-09-24</td>\n",
       "      <td>tt5164438</td>\n",
       "      <td>6.4</td>\n",
       "      <td>15290.0</td>\n",
       "    </tr>\n",
       "    <tr>\n",
       "      <th>4</th>\n",
       "      <td>The Great British Baking Show</td>\n",
       "      <td>TV Show</td>\n",
       "      <td>2021</td>\n",
       "      <td>British TV Shows</td>\n",
       "      <td>Netflix</td>\n",
       "      <td>2021-09-24</td>\n",
       "      <td>tt1877368</td>\n",
       "      <td>8.6</td>\n",
       "      <td>12807.0</td>\n",
       "    </tr>\n",
       "    <tr>\n",
       "      <th>5</th>\n",
       "      <td>Sankofa</td>\n",
       "      <td>Movie</td>\n",
       "      <td>1993</td>\n",
       "      <td>Dramas</td>\n",
       "      <td>Netflix</td>\n",
       "      <td>2021-09-24</td>\n",
       "      <td>tt0108041</td>\n",
       "      <td>7.0</td>\n",
       "      <td>784.0</td>\n",
       "    </tr>\n",
       "    <tr>\n",
       "      <th>...</th>\n",
       "      <td>...</td>\n",
       "      <td>...</td>\n",
       "      <td>...</td>\n",
       "      <td>...</td>\n",
       "      <td>...</td>\n",
       "      <td>...</td>\n",
       "      <td>...</td>\n",
       "      <td>...</td>\n",
       "      <td>...</td>\n",
       "    </tr>\n",
       "    <tr>\n",
       "      <th>1194</th>\n",
       "      <td>Don's Fountain of Youth</td>\n",
       "      <td>Movie</td>\n",
       "      <td>1953</td>\n",
       "      <td>Animation</td>\n",
       "      <td>Disney+</td>\n",
       "      <td>2020-04-03</td>\n",
       "      <td>tt0045696</td>\n",
       "      <td>7.0</td>\n",
       "      <td>926.0</td>\n",
       "    </tr>\n",
       "    <tr>\n",
       "      <th>1195</th>\n",
       "      <td>Dolphin Reef</td>\n",
       "      <td>Movie</td>\n",
       "      <td>2018</td>\n",
       "      <td>Animals &amp; Nature</td>\n",
       "      <td>Disney+</td>\n",
       "      <td>2020-04-03</td>\n",
       "      <td>tt10055028</td>\n",
       "      <td>7.4</td>\n",
       "      <td>1248.0</td>\n",
       "    </tr>\n",
       "    <tr>\n",
       "      <th>1196</th>\n",
       "      <td>Diving with Dolphins</td>\n",
       "      <td>Movie</td>\n",
       "      <td>2020</td>\n",
       "      <td>Animals &amp; Nature</td>\n",
       "      <td>Disney+</td>\n",
       "      <td>2020-04-03</td>\n",
       "      <td>tt12100080</td>\n",
       "      <td>7.0</td>\n",
       "      <td>215.0</td>\n",
       "    </tr>\n",
       "    <tr>\n",
       "      <th>1198</th>\n",
       "      <td>A Tale of Two Critters</td>\n",
       "      <td>Movie</td>\n",
       "      <td>1977</td>\n",
       "      <td>Animals &amp; Nature</td>\n",
       "      <td>Disney+</td>\n",
       "      <td>2020-04-03</td>\n",
       "      <td>tt0287003</td>\n",
       "      <td>5.9</td>\n",
       "      <td>244.0</td>\n",
       "    </tr>\n",
       "    <tr>\n",
       "      <th>1199</th>\n",
       "      <td>All in a Nutshell</td>\n",
       "      <td>Movie</td>\n",
       "      <td>1949</td>\n",
       "      <td>Animation</td>\n",
       "      <td>Disney+</td>\n",
       "      <td>2020-04-03</td>\n",
       "      <td>tt0041112</td>\n",
       "      <td>7.3</td>\n",
       "      <td>1345.0</td>\n",
       "    </tr>\n",
       "  </tbody>\n",
       "</table>\n",
       "<p>973 rows × 9 columns</p>\n",
       "</div>"
      ],
      "text/plain": [
       "                                 title     type  release_year  \\\n",
       "0                 Dick Johnson Is Dead    Movie          2020   \n",
       "1     My Little Pony: A New Generation    Movie          2021   \n",
       "3                         The Starling    Movie          2021   \n",
       "4        The Great British Baking Show  TV Show          2021   \n",
       "5                              Sankofa    Movie          1993   \n",
       "...                                ...      ...           ...   \n",
       "1194           Don's Fountain of Youth    Movie          1953   \n",
       "1195                      Dolphin Reef    Movie          2018   \n",
       "1196              Diving with Dolphins    Movie          2020   \n",
       "1198            A Tale of Two Critters    Movie          1977   \n",
       "1199                 All in a Nutshell    Movie          1949   \n",
       "\n",
       "                 primary_genre platform  date_added     imdb_id  imdb_rating  \\\n",
       "0                Documentaries  Netflix  2021-09-25  tt11394180          7.4   \n",
       "1     Children & Family Movies  Netflix  2021-09-24  tt10101702          6.8   \n",
       "3                     Comedies  Netflix  2021-09-24   tt5164438          6.4   \n",
       "4             British TV Shows  Netflix  2021-09-24   tt1877368          8.6   \n",
       "5                       Dramas  Netflix  2021-09-24   tt0108041          7.0   \n",
       "...                        ...      ...         ...         ...          ...   \n",
       "1194                 Animation  Disney+  2020-04-03   tt0045696          7.0   \n",
       "1195          Animals & Nature  Disney+  2020-04-03  tt10055028          7.4   \n",
       "1196          Animals & Nature  Disney+  2020-04-03  tt12100080          7.0   \n",
       "1198          Animals & Nature  Disney+  2020-04-03   tt0287003          5.9   \n",
       "1199                 Animation  Disney+  2020-04-03   tt0041112          7.3   \n",
       "\n",
       "      imdb_votes  \n",
       "0         7204.0  \n",
       "1         4475.0  \n",
       "3        15290.0  \n",
       "4        12807.0  \n",
       "5          784.0  \n",
       "...          ...  \n",
       "1194       926.0  \n",
       "1195      1248.0  \n",
       "1196       215.0  \n",
       "1198       244.0  \n",
       "1199      1345.0  \n",
       "\n",
       "[973 rows x 9 columns]"
      ]
     },
     "execution_count": 104,
     "metadata": {},
     "output_type": "execute_result"
    }
   ],
   "source": [
    "new_combined_df"
   ]
  },
  {
   "cell_type": "markdown",
   "id": "0b74a531-1934-4140-a213-95e5d23a7c17",
   "metadata": {},
   "source": [
    "# Correlation and Regression for Disney+ "
   ]
  },
  {
   "cell_type": "code",
   "execution_count": 105,
   "id": "ecde2449-4753-4e43-aec4-efa483210507",
   "metadata": {},
   "outputs": [
    {
     "data": {
      "image/png": "[encoded data removed]",
      "text/plain": [
       "<Figure size 640x480 with 1 Axes>"
      ]
     },
     "metadata": {},
     "output_type": "display_data"
    }
   ],
   "source": [
    "# Generate a scatter plot of IMDB votes vs. the average rating for Disney+\n",
    "disney_data= new_combined_df.loc[new_combined_df['platform']=='Disney+'].groupby('imdb_id')\n",
    "disney_avg_imdb_rating = disney_data['imdb_rating'].mean()\n",
    "disney_imdb_vote = disney_data[\"imdb_votes\"].unique()\n",
    "plt.scatter(disney_imdb_vote, disney_avg_imdb_rating)\n",
    "plt.xlabel(\"IMDB votes\")\n",
    "plt.ylabel(\"IMDB rating\")\n",
    "plt.show()"
   ]
  },
  {
   "cell_type": "code",
   "execution_count": 106,
   "id": "c0226faa-1a4b-426f-995c-c072911a74a8",
   "metadata": {},
   "outputs": [
    {
     "name": "stdout",
     "output_type": "stream",
     "text": [
      "The correlation between IMDB votes and the average IMDB rating is 0.1647.\n"
     ]
    },
    {
     "data": {
      "image/png": "[encoded data removed]",
      "text/plain": [
       "<Figure size 640x480 with 1 Axes>"
      ]
     },
     "metadata": {},
     "output_type": "display_data"
    }
   ],
   "source": [
    "# Calculate the correlation coefficient and a linear regression model for IMDB Votes vs. the average rating for Disney+\n",
    "correlation = st.pearsonr(disney_imdb_vote, disney_avg_imdb_rating)\n",
    "rounded_corr = round(float(correlation[0]), 4)\n",
    "disney_imdb_vote = disney_imdb_vote.astype(float)\n",
    "(slope, intercept, rvalue, pvalue, stderr) = st.linregress(disney_imdb_vote, disney_avg_imdb_rating)\n",
    "line_eq = f'y = {(round(slope,5))}x + {(round(intercept,2))}'\n",
    "regress_values = disney_imdb_vote * slope + intercept\n",
    "plt.scatter(disney_imdb_vote, disney_avg_imdb_rating)\n",
    "plt.plot(disney_imdb_vote,regress_values,\"r-\")\n",
    "x_mean = np.mean(disney_imdb_vote)\n",
    "y_mean = np.mean(disney_avg_imdb_rating)\n",
    "x_text = x_mean\n",
    "y_text = slope * x_mean + intercept\n",
    "plt.annotate( line_eq,(x_text,y_text), fontsize=14, color='red')\n",
    "plt.xlabel(\"Number of IMDB votes\")\n",
    "plt.ylabel(\"Average IMDB rating\")\n",
    "print(f\"The correlation between IMDB votes and the average IMDB rating is {rounded_corr}.\")\n",
    "plt.show()"
   ]
  },
  {
   "cell_type": "code",
   "execution_count": null,
   "id": "336b190c-296e-4e32-b1df-2705ee2f7fdf",
   "metadata": {},
   "outputs": [],
   "source": []
  }
 ],
 "metadata": {
  "kernelspec": {
   "display_name": "Python 3 (ipykernel)",
   "language": "python",
   "name": "python3"
  },
  "language_info": {
   "codemirror_mode": {
    "name": "ipython",
    "version": 3
   },
   "file_extension": ".py",
   "mimetype": "text/x-python",
   "name": "python",
   "nbconvert_exporter": "python",
   "pygments_lexer": "ipython3",
   "version": "3.10.14"
  }
 },
 "nbformat": 4,
 "nbformat_minor": 5
}
