{
 "cells": [
  {
   "cell_type": "code",
   "execution_count": null,
   "id": "c8e00cba-0f8f-4be9-8479-8cd4488c2774",
   "metadata": {},
   "outputs": [],
   "source": [
    "# Dependencies and Setup\n",
    "import matplotlib.pyplot as plt\n",
    "import pandas as pd\n",
    "import numpy as np\n",
    "import requests\n",
    "import time\n",
    "from scipy.stats import linregress\n"
   ]
  },
  {
   "cell_type": "code",
   "execution_count": null,
   "id": "06d69fd6-b98d-4d25-a009-2ddc7f3dad6e",
   "metadata": {},
   "outputs": [],
   "source": [
    "# Data files\n",
    "ratings_path = \"../output/recentadd_rated.csv\"\n",
    "\n",
    "# Read the Netflix and Disney+ data\n",
    "ratings_data = pd.read_csv(ratings_path)"
   ]
  },
  {
   "cell_type": "code",
   "execution_count": null,
   "id": "979c1afd-de88-48d5-bee2-78a0d0e9ca0f",
   "metadata": {},
   "outputs": [],
   "source": [
    "# Create dataframe and review length\n",
    "ratings_df = pd.DataFrame(ratings_data)\n",
    "len(ratings_df)"
   ]
  },
  {
   "cell_type": "code",
   "execution_count": null,
   "id": "ebcf94b3-d62e-4361-b96b-9805be406e3d",
   "metadata": {},
   "outputs": [],
   "source": [
    "# Find \"None\" and \"N/A\" values for each platform"
   ]
  },
  {
   "cell_type": "code",
   "execution_count": null,
   "id": "9cb5ba84-811f-4be0-9585-e783ccdc4897",
   "metadata": {},
   "outputs": [],
   "source": [
    "# Remove \"None\" and \"N/A\" values to create clean dataframe"
   ]
  },
  {
   "cell_type": "code",
   "execution_count": null,
   "id": "fca88d62-c11f-4771-a243-039806c0be34",
   "metadata": {},
   "outputs": [],
   "source": [
    "# Generate a summary statistics table of mean, median, variance, standard deviation, and SEM of the tumor volume for each platform\n",
    "# Use groupby and summary statistical methods to calculate the following properties of each platform: "
   ]
  },
  {
   "cell_type": "code",
   "execution_count": null,
   "id": "928db9a0-52af-49e0-95e3-65e0cd7f578b",
   "metadata": {},
   "outputs": [],
   "source": [
    "# # Generate a box plot that shows the distrubution of IMDB rating for each platform."
   ]
  }
 ],
 "metadata": {
  "kernelspec": {
   "display_name": "Python 3 (ipykernel)",
   "language": "python",
   "name": "python3"
  },
  "language_info": {
   "codemirror_mode": {
    "name": "ipython",
    "version": 3
   },
   "file_extension": ".py",
   "mimetype": "text/x-python",
   "name": "python",
   "nbconvert_exporter": "python",
   "pygments_lexer": "ipython3",
   "version": "3.10.14"
  }
 },
 "nbformat": 4,
 "nbformat_minor": 5
}
