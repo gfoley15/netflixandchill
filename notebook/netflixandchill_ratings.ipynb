{
 "cells": [
  {
   "cell_type": "code",
   "execution_count": null,
   "id": "c8e00cba-0f8f-4be9-8479-8cd4488c2774",
   "metadata": {},
   "outputs": [],
   "source": [
    "# Dependencies and Setup\n",
    "import matplotlib.pyplot as plt\n",
    "import pandas as pd\n",
    "import numpy as np\n",
    "import requests\n",
    "import time\n",
    "from scipy.stats import linregress\n"
   ]
  },
  {
   "cell_type": "markdown",
   "id": "69791637-7345-459a-9c66-ba92d6f41254",
   "metadata": {},
   "source": [
    "# Read in ratings data file and create DataFrame"
   ]
  },
  {
   "cell_type": "code",
   "execution_count": null,
   "id": "06d69fd6-b98d-4d25-a009-2ddc7f3dad6e",
   "metadata": {},
   "outputs": [],
   "source": [
    "# Data files\n",
    "ratings_path = \"../output/recentadd_rated.csv\"\n",
    "\n",
    "# Read the Netflix and Disney+ data\n",
    "ratings_data = pd.read_csv(ratings_path)"
   ]
  },
  {
   "cell_type": "code",
   "execution_count": null,
   "id": "979c1afd-de88-48d5-bee2-78a0d0e9ca0f",
   "metadata": {},
   "outputs": [],
   "source": [
    "# Create dataframe and review length\n",
    "ratings_df = pd.DataFrame(ratings_data)\n",
    "len(ratings_df)"
   ]
  },
  {
   "cell_type": "code",
   "execution_count": null,
   "id": "ebcf94b3-d62e-4361-b96b-9805be406e3d",
   "metadata": {},
   "outputs": [],
   "source": [
    "# Find \"None\" and \"N/A\" values for each platform"
   ]
  },
  {
   "cell_type": "code",
   "execution_count": null,
   "id": "9cb5ba84-811f-4be0-9585-e783ccdc4897",
   "metadata": {},
   "outputs": [],
   "source": [
    "# Remove \"None\" and \"N/A\" values to create clean dataframe"
   ]
  },
  {
   "cell_type": "markdown",
   "id": "05b10585-02c7-4e22-b8d5-d45abe53c46e",
   "metadata": {},
   "source": [
    "# Generate Summary Statistics for each platform"
   ]
  },
  {
   "cell_type": "code",
   "execution_count": null,
   "id": "fca88d62-c11f-4771-a243-039806c0be34",
   "metadata": {},
   "outputs": [],
   "source": [
    "# Generate a summary statistics table of mean, median, variance, standard deviation, and SEM of the tumor volume for each platform\n",
    "# Use groupby and summary statistical methods to calculate the following properties of each platform: "
   ]
  },
  {
   "cell_type": "markdown",
   "id": "710be473-4a42-4dd7-939e-fdfd524b62cf",
   "metadata": {},
   "source": [
    "# Summary Statistics plotting"
   ]
  },
  {
   "cell_type": "code",
   "execution_count": null,
   "id": "928db9a0-52af-49e0-95e3-65e0cd7f578b",
   "metadata": {},
   "outputs": [],
   "source": [
    "# Generate a box plot that shows the distrubution of IMDB rating for each platform."
   ]
  },
  {
   "cell_type": "markdown",
   "id": "a4c39b40-c939-46c7-9129-902e6008dff5",
   "metadata": {},
   "source": [
    "# Linear Regression plotting "
   ]
  },
  {
   "cell_type": "code",
   "execution_count": null,
   "id": "59dad405-c16f-4b67-9f99-03d40acbb095",
   "metadata": {},
   "outputs": [],
   "source": []
  }
 ],
 "metadata": {
  "kernelspec": {
   "display_name": "Python 3 (ipykernel)",
   "language": "python",
   "name": "python3"
  },
  "language_info": {
   "codemirror_mode": {
    "name": "ipython",
    "version": 3
   },
   "file_extension": ".py",
   "mimetype": "text/x-python",
   "name": "python",
   "nbconvert_exporter": "python",
   "pygments_lexer": "ipython3",
   "version": "3.10.14"
  }
 },
 "nbformat": 4,
 "nbformat_minor": 5
}
